{
 "cells": [
  {
   "cell_type": "markdown",
   "metadata": {
    "collapsed": true
   },
   "source": [
    "# Image Classification\n",
    "In this project, you'll classify images from the [CIFAR-10 dataset](https://www.cs.toronto.edu/~kriz/cifar.html).  The dataset consists of airplanes, dogs, cats, and other objects. You'll preprocess the images, then train a convolutional neural network on all the samples. The images need to be normalized and the labels need to be one-hot encoded.  You'll get to apply what you learned and build a convolutional, max pooling, dropout, and fully connected layers.  At the end, you'll get to see your neural network's predictions on the sample images.\n",
    "## Get the Data\n",
    "Run the following cell to download the [CIFAR-10 dataset for python](https://www.cs.toronto.edu/~kriz/cifar-10-python.tar.gz)."
   ]
  },
  {
   "cell_type": "code",
   "execution_count": 1,
   "metadata": {},
   "outputs": [
    {
     "name": "stdout",
     "output_type": "stream",
     "text": [
      "All files found!\n"
     ]
    }
   ],
   "source": [
    "\"\"\"\n",
    "DON'T MODIFY ANYTHING IN THIS CELL THAT IS BELOW THIS LINE\n",
    "\"\"\"\n",
    "from urllib.request import urlretrieve\n",
    "from os.path import isfile, isdir\n",
    "from tqdm import tqdm\n",
    "import problem_unittests as tests\n",
    "import tarfile\n",
    "\n",
    "cifar10_dataset_folder_path = 'cifar-10-batches-py'\n",
    "\n",
    "# Use Floyd's cifar-10 dataset if present\n",
    "floyd_cifar10_location = '/input/cifar-10/python.tar.gz'\n",
    "if isfile(floyd_cifar10_location):\n",
    "    tar_gz_path = floyd_cifar10_location\n",
    "else:\n",
    "    tar_gz_path = 'cifar-10-python.tar.gz'\n",
    "\n",
    "class DLProgress(tqdm):\n",
    "    last_block = 0\n",
    "\n",
    "    def hook(self, block_num=1, block_size=1, total_size=None):\n",
    "        self.total = total_size\n",
    "        self.update((block_num - self.last_block) * block_size)\n",
    "        self.last_block = block_num\n",
    "\n",
    "if not isfile(tar_gz_path):\n",
    "    with DLProgress(unit='B', unit_scale=True, miniters=1, desc='CIFAR-10 Dataset') as pbar:\n",
    "        urlretrieve(\n",
    "            'https://www.cs.toronto.edu/~kriz/cifar-10-python.tar.gz',\n",
    "            tar_gz_path,\n",
    "            pbar.hook)\n",
    "\n",
    "if not isdir(cifar10_dataset_folder_path):\n",
    "    with tarfile.open(tar_gz_path) as tar:\n",
    "        tar.extractall()\n",
    "        tar.close()\n",
    "\n",
    "\n",
    "tests.test_folder_path(cifar10_dataset_folder_path)"
   ]
  },
  {
   "cell_type": "markdown",
   "metadata": {},
   "source": [
    "## Explore the Data\n",
    "The dataset is broken into batches to prevent your machine from running out of memory.  The CIFAR-10 dataset consists of 5 batches, named `data_batch_1`, `data_batch_2`, etc.. Each batch contains the labels and images that are one of the following:\n",
    "* airplane\n",
    "* automobile\n",
    "* bird\n",
    "* cat\n",
    "* deer\n",
    "* dog\n",
    "* frog\n",
    "* horse\n",
    "* ship\n",
    "* truck\n",
    "\n",
    "Understanding a dataset is part of making predictions on the data.  Play around with the code cell below by changing the `batch_id` and `sample_id`. The `batch_id` is the id for a batch (1-5). The `sample_id` is the id for a image and label pair in the batch.\n",
    "\n",
    "Ask yourself \"What are all possible labels?\", \"What is the range of values for the image data?\", \"Are the labels in order or random?\".  Answers to questions like these will help you preprocess the data and end up with better predictions."
   ]
  },
  {
   "cell_type": "code",
   "execution_count": 2,
   "metadata": {},
   "outputs": [
    {
     "name": "stdout",
     "output_type": "stream",
     "text": [
      "\n",
      "Stats of batch 1:\n",
      "Samples: 10000\n",
      "Label Counts: {0: 1005, 1: 974, 2: 1032, 3: 1016, 4: 999, 5: 937, 6: 1030, 7: 1001, 8: 1025, 9: 981}\n",
      "First 20 Labels: [6, 9, 9, 4, 1, 1, 2, 7, 8, 3, 4, 7, 7, 2, 9, 9, 9, 3, 2, 6]\n",
      "\n",
      "Example of Image 5:\n",
      "Image - Min Value: 0 Max Value: 252\n",
      "Image - Shape: (32, 32, 3)\n",
      "Label - Label Id: 1 Name: automobile\n"
     ]
    },
    {
     "data": {
      "image/png": "[encoded data removed]",
      "text/plain": [
       "<matplotlib.figure.Figure at 0x7f64baf994a8>"
      ]
     },
     "metadata": {
      "image/png": {
       "height": 250,
       "width": 253
      }
     },
     "output_type": "display_data"
    }
   ],
   "source": [
    "%matplotlib inline\n",
    "%config InlineBackend.figure_format = 'retina'\n",
    "\n",
    "import helper\n",
    "import numpy as np\n",
    "\n",
    "# Explore the dataset\n",
    "batch_id = 1\n",
    "sample_id = 5\n",
    "helper.display_stats(cifar10_dataset_folder_path, batch_id, sample_id)"
   ]
  },
  {
   "cell_type": "markdown",
   "metadata": {},
   "source": [
    "## Implement Preprocess Functions\n",
    "### Normalize\n",
    "In the cell below, implement the `normalize` function to take in image data, `x`, and return it as a normalized Numpy array. The values should be in the range of 0 to 1, inclusive.  The return object should be the same shape as `x`."
   ]
  },
  {
   "cell_type": "code",
   "execution_count": 3,
   "metadata": {},
   "outputs": [
    {
     "name": "stdout",
     "output_type": "stream",
     "text": [
      "Tests Passed\n"
     ]
    }
   ],
   "source": [
    "def normalize(x):\n",
    "    \"\"\"\n",
    "    Normalize a list of sample image data in the range of 0 to 1\n",
    "    : x: List of image data.  The image shape is (32, 32, 3)\n",
    "    : return: Numpy array of normalize data\n",
    "    \"\"\"\n",
    "    # TODO: Implement Function\n",
    "    return (x - x.min()) / (x.max() - x.min())\n",
    "\n",
    "\n",
    "\"\"\"\n",
    "DON'T MODIFY ANYTHING IN THIS CELL THAT IS BELOW THIS LINE\n",
    "\"\"\"\n",
    "tests.test_normalize(normalize)"
   ]
  },
  {
   "cell_type": "markdown",
   "metadata": {},
   "source": [
    "### One-hot encode\n",
    "Just like the previous code cell, you'll be implementing a function for preprocessing.  This time, you'll implement the `one_hot_encode` function. The input, `x`, are a list of labels.  Implement the function to return the list of labels as One-Hot encoded Numpy array.  The possible values for labels are 0 to 9. The one-hot encoding function should return the same encoding for each value between each call to `one_hot_encode`.  Make sure to save the map of encodings outside the function.\n",
    "\n",
    "Hint: Don't reinvent the wheel."
   ]
  },
  {
   "cell_type": "code",
   "execution_count": 4,
   "metadata": {},
   "outputs": [
    {
     "name": "stdout",
     "output_type": "stream",
     "text": [
      "Tests Passed\n"
     ]
    }
   ],
   "source": [
    "import numpy as np\n",
    "\n",
    "def one_hot_encode(x):\n",
    "    \"\"\"\n",
    "    One hot encode a list of sample labels. Return a one-hot encoded vector for each label.\n",
    "    : x: List of sample Labels\n",
    "    : return: Numpy array of one-hot encoded labels\n",
    "    \"\"\"\n",
    "    # TODO: Implement Function\n",
    "    x_encode = np.zeros((len(x), 10))\n",
    "    for i in range(len(x)):\n",
    "        x_encode[i, x[i]] = 1\n",
    "    return x_encode\n",
    "\n",
    "\n",
    "\"\"\"\n",
    "DON'T MODIFY ANYTHING IN THIS CELL THAT IS BELOW THIS LINE\n",
    "\"\"\"\n",
    "tests.test_one_hot_encode(one_hot_encode)"
   ]
  },
  {
   "cell_type": "markdown",
   "metadata": {},
   "source": [
    "### Randomize Data\n",
    "As you saw from exploring the data above, the order of the samples are randomized.  It doesn't hurt to randomize it again, but you don't need to for this dataset."
   ]
  },
  {
   "cell_type": "markdown",
   "metadata": {},
   "source": [
    "## Preprocess all the data and save it\n",
    "Running the code cell below will preprocess all the CIFAR-10 data and save it to file. The code below also uses 10% of the training data for validation."
   ]
  },
  {
   "cell_type": "code",
   "execution_count": 8,
   "metadata": {
    "collapsed": true
   },
   "outputs": [],
   "source": [
    "\"\"\"\n",
    "DON'T MODIFY ANYTHING IN THIS CELL\n",
    "\"\"\"\n",
    "# Preprocess Training, Validation, and Testing Data\n",
    "helper.preprocess_and_save_data(cifar10_dataset_folder_path, normalize, one_hot_encode)"
   ]
  },
  {
   "cell_type": "markdown",
   "metadata": {},
   "source": [
    "# Check Point\n",
    "This is your first checkpoint.  If you ever decide to come back to this notebook or have to restart the notebook, you can start from here.  The preprocessed data has been saved to disk."
   ]
  },
  {
   "cell_type": "code",
   "execution_count": 9,
   "metadata": {},
   "outputs": [],
   "source": [
    "\"\"\"\n",
    "DON'T MODIFY ANYTHING IN THIS CELL\n",
    "\"\"\"\n",
    "import pickle\n",
    "import problem_unittests as tests\n",
    "import helper\n",
    "\n",
    "# Load the Preprocessed Validation data\n",
    "valid_features, valid_labels = pickle.load(open('preprocess_validation.p', mode='rb'))"
   ]
  },
  {
   "cell_type": "code",
   "execution_count": 10,
   "metadata": {},
   "outputs": [
    {
     "name": "stdout",
     "output_type": "stream",
     "text": [
      "(5000, 32, 32, 3)\n"
     ]
    }
   ],
   "source": [
    "print(valid_features.shape)"
   ]
  },
  {
   "cell_type": "code",
   "execution_count": 11,
   "metadata": {},
   "outputs": [
    {
     "name": "stdout",
     "output_type": "stream",
     "text": [
      "(5000, 10)\n"
     ]
    }
   ],
   "source": [
    "print(valid_labels.shape)"
   ]
  },
  {
   "cell_type": "markdown",
   "metadata": {},
   "source": [
    "## Build the network\n",
    "For the neural network, you'll build each layer into a function.  Most of the code you've seen has been outside of functions. To test your code more thoroughly, we require that you put each layer in a function.  This allows us to give you better feedback and test for simple mistakes using our unittests before you submit your project.\n",
    "\n",
    ">**Note:** If you're finding it hard to dedicate enough time for this course each week, we've provided a small shortcut to this part of the project. In the next couple of problems, you'll have the option to use classes from the [TensorFlow Layers](https://www.tensorflow.org/api_docs/python/tf/layers) or [TensorFlow Layers (contrib)](https://www.tensorflow.org/api_guides/python/contrib.layers) packages to build each layer, except the layers you build in the \"Convolutional and Max Pooling Layer\" section.  TF Layers is similar to Keras's and TFLearn's abstraction to layers, so it's easy to pickup.\n",
    "\n",
    ">However, if you would like to get the most out of this course, try to solve all the problems _without_ using anything from the TF Layers packages. You **can** still use classes from other packages that happen to have the same name as ones you find in TF Layers! For example, instead of using the TF Layers version of the `conv2d` class, [tf.layers.conv2d](https://www.tensorflow.org/api_docs/python/tf/layers/conv2d), you would want to use the TF Neural Network version of `conv2d`, [tf.nn.conv2d](https://www.tensorflow.org/api_docs/python/tf/nn/conv2d). \n",
    "\n",
    "Let's begin!\n",
    "\n",
    "### Input\n",
    "The neural network needs to read the image data, one-hot encoded labels, and dropout keep probability. Implement the following functions\n",
    "* Implement `neural_net_image_input`\n",
    " * Return a [TF Placeholder](https://www.tensorflow.org/api_docs/python/tf/placeholder)\n",
    " * Set the shape using `image_shape` with batch size set to `None`.\n",
    " * Name the TensorFlow placeholder \"x\" using the TensorFlow `name` parameter in the [TF Placeholder](https://www.tensorflow.org/api_docs/python/tf/placeholder).\n",
    "* Implement `neural_net_label_input`\n",
    " * Return a [TF Placeholder](https://www.tensorflow.org/api_docs/python/tf/placeholder)\n",
    " * Set the shape using `n_classes` with batch size set to `None`.\n",
    " * Name the TensorFlow placeholder \"y\" using the TensorFlow `name` parameter in the [TF Placeholder](https://www.tensorflow.org/api_docs/python/tf/placeholder).\n",
    "* Implement `neural_net_keep_prob_input`\n",
    " * Return a [TF Placeholder](https://www.tensorflow.org/api_docs/python/tf/placeholder) for dropout keep probability.\n",
    " * Name the TensorFlow placeholder \"keep_prob\" using the TensorFlow `name` parameter in the [TF Placeholder](https://www.tensorflow.org/api_docs/python/tf/placeholder).\n",
    "\n",
    "These names will be used at the end of the project to load your saved model.\n",
    "\n",
    "Note: `None` for shapes in TensorFlow allow for a dynamic size."
   ]
  },
  {
   "cell_type": "code",
   "execution_count": 12,
   "metadata": {},
   "outputs": [
    {
     "name": "stdout",
     "output_type": "stream",
     "text": [
      "Image Input Tests Passed.\n",
      "Label Input Tests Passed.\n",
      "Keep Prob Tests Passed.\n"
     ]
    }
   ],
   "source": [
    "import tensorflow as tf\n",
    "\n",
    "def neural_net_image_input(image_shape):\n",
    "    \"\"\"\n",
    "    Return a Tensor for a bach of image input\n",
    "    : image_shape: Shape of the images\n",
    "    : return: Tensor for image input.\n",
    "    \"\"\"\n",
    "    # TODO: Implement Function\n",
    "    shape = (None, *image_shape)\n",
    "    return tf.placeholder(tf.float32, shape = shape, name = 'x')\n",
    "\n",
    "\n",
    "def neural_net_label_input(n_classes):\n",
    "    \"\"\"\n",
    "    Return a Tensor for a batch of label input\n",
    "    : n_classes: Number of classes\n",
    "    : return: Tensor for label input.\n",
    "    \"\"\"\n",
    "    # TODO: Implement Function\n",
    "    shape = [None, n_classes]\n",
    "    return tf.placeholder(tf.float32, shape, name = 'y')\n",
    "\n",
    "\n",
    "def neural_net_keep_prob_input():\n",
    "    \"\"\"\n",
    "    Return a Tensor for keep probability\n",
    "    : return: Tensor for keep probability.\n",
    "    \"\"\"\n",
    "    # TODO: Implement Function\n",
    "    return tf.placeholder(tf.float32, None, name = 'keep_prob')\n",
    "\n",
    "\n",
    "\"\"\"\n",
    "DON'T MODIFY ANYTHING IN THIS CELL THAT IS BELOW THIS LINE\n",
    "\"\"\"\n",
    "tf.reset_default_graph()\n",
    "tests.test_nn_image_inputs(neural_net_image_input)\n",
    "tests.test_nn_label_inputs(neural_net_label_input)\n",
    "tests.test_nn_keep_prob_inputs(neural_net_keep_prob_input)"
   ]
  },
  {
   "cell_type": "markdown",
   "metadata": {},
   "source": [
    "### Convolution and Max Pooling Layer\n",
    "Convolution layers have a lot of success with images. For this code cell, you should implement the function `conv2d_maxpool` to apply convolution then max pooling:\n",
    "* Create the weight and bias using `conv_ksize`, `conv_num_outputs` and the shape of `x_tensor`.\n",
    "* Apply a convolution to `x_tensor` using weight and `conv_strides`.\n",
    " * We recommend you use same padding, but you're welcome to use any padding.\n",
    "* Add bias\n",
    "* Add a nonlinear activation to the convolution.\n",
    "* Apply Max Pooling using `pool_ksize` and `pool_strides`.\n",
    " * We recommend you use same padding, but you're welcome to use any padding.\n",
    "\n",
    "**Note:** You **can't** use [TensorFlow Layers](https://www.tensorflow.org/api_docs/python/tf/layers) or [TensorFlow Layers (contrib)](https://www.tensorflow.org/api_guides/python/contrib.layers) for **this** layer, but you can still use TensorFlow's [Neural Network](https://www.tensorflow.org/api_docs/python/tf/nn) package. You may still use the shortcut option for all the **other** layers."
   ]
  },
  {
   "cell_type": "code",
   "execution_count": 13,
   "metadata": {},
   "outputs": [
    {
     "name": "stdout",
     "output_type": "stream",
     "text": [
      "input shae: [None, 32, 32, 5]\n",
      "size: (2, 2, 5, 10)\n",
      "strides: (4, 4)\n",
      "Tests Passed\n"
     ]
    }
   ],
   "source": [
    "from math import sqrt\n",
    "def conv2d_maxpool(x_tensor, conv_num_outputs, conv_ksize, conv_strides, pool_ksize, pool_strides):\n",
    "    \"\"\"\n",
    "    Apply convolution then max pooling to x_tensor\n",
    "    :param x_tensor: TensorFlow Tensor\n",
    "    :param conv_num_outputs: Number of outputs for the convolutional layer\n",
    "    :param conv_ksize: kernal size 2-D Tuple for the convolutional layer\n",
    "    :param conv_strides: Stride 2-D Tuple for convolution\n",
    "    :param pool_ksize: kernal size 2-D Tuple for pool\n",
    "    :param pool_strides: Stride 2-D Tuple for pool\n",
    "    : return: A tensor that represents convolution and max pooling of x_tensor\n",
    "    \"\"\"\n",
    "    # TODO: Implement Function\n",
    "    # convolutional layer\n",
    "    input_shape = x_tensor.get_shape().as_list()\n",
    "    print(\"input shae:\", input_shape)\n",
    "    size = (conv_ksize[0], conv_ksize[1], input_shape[3], conv_num_outputs)\n",
    "    print(\"size:\", size)\n",
    "    weight = tf.Variable(tf.truncated_normal(size, 0, (1 / sqrt(input_shape[1] * input_shape[2] * input_shape[3]) )))\n",
    "    bias = tf.Variable(tf.zeros(conv_num_outputs))\n",
    "    print(\"strides:\", conv_strides)\n",
    "    conv_layer = tf.nn.conv2d(x_tensor, weight, strides = [1, conv_strides[0], conv_strides[1], 1], padding = 'SAME')\n",
    "    conv_layer = tf.nn.bias_add(conv_layer, bias)\n",
    "    conv_layer = tf.nn.relu(conv_layer)\n",
    "    \n",
    "    # max pooling layer\n",
    "    maxpool_layer = tf.nn.max_pool(\n",
    "        conv_layer, \n",
    "        ksize = [1, pool_ksize[0], pool_ksize[1], 1],\n",
    "        strides = [1, pool_strides[0], pool_strides[1], 1],\n",
    "        padding = 'SAME')\n",
    "    return maxpool_layer \n",
    "\n",
    "\n",
    "\"\"\"\n",
    "DON'T MODIFY ANYTHING IN THIS CELL THAT IS BELOW THIS LINE\n",
    "\"\"\"\n",
    "tests.test_con_pool(conv2d_maxpool)"
   ]
  },
  {
   "cell_type": "markdown",
   "metadata": {},
   "source": [
    "### Flatten Layer\n",
    "Implement the `flatten` function to change the dimension of `x_tensor` from a 4-D tensor to a 2-D tensor.  The output should be the shape (*Batch Size*, *Flattened Image Size*). Shortcut option: you can use classes from the [TensorFlow Layers](https://www.tensorflow.org/api_docs/python/tf/layers) or [TensorFlow Layers (contrib)](https://www.tensorflow.org/api_guides/python/contrib.layers) packages for this layer. For more of a challenge, only use other TensorFlow packages."
   ]
  },
  {
   "cell_type": "code",
   "execution_count": 14,
   "metadata": {},
   "outputs": [
    {
     "name": "stdout",
     "output_type": "stream",
     "text": [
      "Tests Passed\n"
     ]
    }
   ],
   "source": [
    "def flatten(x_tensor):\n",
    "    \"\"\"\n",
    "    Flatten x_tensor to (Batch Size, Flattened Image Size)\n",
    "    : x_tensor: A tensor of size (Batch Size, ...), where ... are the image dimensions.\n",
    "    : return: A tensor of size (Batch Size, Flattened Image Size).\n",
    "    \"\"\"\n",
    "    # TODO: Implement Function\n",
    "#     input_shape = x_tensor.get_shape().as_list()\n",
    "#     new_shape = (input_shape[0], input_shape[1] * input_shape[2] * input_shape[3])\n",
    "#     x_tensor = tf.reshape(x_tensor, new_shape)\n",
    "    \n",
    "    x_tensor = tf.contrib.layers.flatten(x_tensor)\n",
    "    return x_tensor\n",
    "\n",
    "\n",
    "\"\"\"\n",
    "DON'T MODIFY ANYTHING IN THIS CELL THAT IS BELOW THIS LINE\n",
    "\"\"\"\n",
    "tests.test_flatten(flatten)"
   ]
  },
  {
   "cell_type": "markdown",
   "metadata": {},
   "source": [
    "### Fully-Connected Layer\n",
    "Implement the `fully_conn` function to apply a fully connected layer to `x_tensor` with the shape (*Batch Size*, *num_outputs*). Shortcut option: you can use classes from the [TensorFlow Layers](https://www.tensorflow.org/api_docs/python/tf/layers) or [TensorFlow Layers (contrib)](https://www.tensorflow.org/api_guides/python/contrib.layers) packages for this layer. For more of a challenge, only use other TensorFlow packages."
   ]
  },
  {
   "cell_type": "code",
   "execution_count": 15,
   "metadata": {},
   "outputs": [
    {
     "name": "stdout",
     "output_type": "stream",
     "text": [
      "Tests Passed\n"
     ]
    }
   ],
   "source": [
    "def fully_conn(x_tensor, num_outputs):\n",
    "    \"\"\"\n",
    "    Apply a fully connected layer to x_tensor using weight and bias\n",
    "    : x_tensor: A 2-D tensor where the first dimension is batch size.\n",
    "    : num_outputs: The number of output that the new tensor should be.\n",
    "    : return: A 2-D tensor where the second dimension is num_outputs.\n",
    "    \"\"\"\n",
    "    # TODO: Implement Function\n",
    "    input_shape = x_tensor.get_shape().as_list()\n",
    "    weights = tf.Variable(tf.truncated_normal((input_shape[1], num_outputs), 0, 0.01))\n",
    "    bias = tf.Variable(tf.zeros(num_outputs))\n",
    "    x_tensor = tf.add(tf.matmul(x_tensor, weights), bias)\n",
    "    x_tensor = tf.nn.relu(x_tensor)\n",
    "#    x_tensor = tf.contrib.layers.fully_connected(x_tensor, num_outputs)\n",
    "    return x_tensor\n",
    "\n",
    "\n",
    "\"\"\"\n",
    "DON'T MODIFY ANYTHING IN THIS CELL THAT IS BELOW THIS LINE\n",
    "\"\"\"\n",
    "tests.test_fully_conn(fully_conn)"
   ]
  },
  {
   "cell_type": "markdown",
   "metadata": {},
   "source": [
    "### Output Layer\n",
    "Implement the `output` function to apply a fully connected layer to `x_tensor` with the shape (*Batch Size*, *num_outputs*). Shortcut option: you can use classes from the [TensorFlow Layers](https://www.tensorflow.org/api_docs/python/tf/layers) or [TensorFlow Layers (contrib)](https://www.tensorflow.org/api_guides/python/contrib.layers) packages for this layer. For more of a challenge, only use other TensorFlow packages.\n",
    "\n",
    "**Note:** Activation, softmax, or cross entropy should **not** be applied to this."
   ]
  },
  {
   "cell_type": "code",
   "execution_count": 16,
   "metadata": {},
   "outputs": [
    {
     "name": "stdout",
     "output_type": "stream",
     "text": [
      "Tests Passed\n"
     ]
    }
   ],
   "source": [
    "def output(x_tensor, num_outputs):\n",
    "    \"\"\"\n",
    "    Apply a output layer to x_tensor using weight and bias\n",
    "    : x_tensor: A 2-D tensor where the first dimension is batch size.\n",
    "    : num_outputs: The number of output that the new tensor should be.\n",
    "    : return: A 2-D tensor where the second dimension is num_outputs.\n",
    "    \"\"\"\n",
    "    # TODO: Implement Function\n",
    "    input_shape = x_tensor.get_shape().as_list()\n",
    "    weights = tf.Variable(tf.truncated_normal((input_shape[1], num_outputs), 0, 0.01))\n",
    "    bias = tf.Variable(tf.zeros(num_outputs))\n",
    "    x_tensor = tf.add(tf.matmul(x_tensor, weights), bias)\n",
    "    # x_tensor = tf.contrib.layers.fully_connected(x_tensor, num_outputs)\n",
    "    return x_tensor\n",
    "\n",
    "\n",
    "\"\"\"\n",
    "DON'T MODIFY ANYTHING IN THIS CELL THAT IS BELOW THIS LINE\n",
    "\"\"\"\n",
    "tests.test_output(output)"
   ]
  },
  {
   "cell_type": "markdown",
   "metadata": {},
   "source": [
    "### Create Convolutional Model\n",
    "Implement the function `conv_net` to create a convolutional neural network model. The function takes in a batch of images, `x`, and outputs logits.  Use the layers you created above to create this model:\n",
    "\n",
    "* Apply 1, 2, or 3 Convolution and Max Pool layers\n",
    "* Apply a Flatten Layer\n",
    "* Apply 1, 2, or 3 Fully Connected Layers\n",
    "* Apply an Output Layer\n",
    "* Return the output\n",
    "* Apply [TensorFlow's Dropout](https://www.tensorflow.org/api_docs/python/tf/nn/dropout) to one or more layers in the model using `keep_prob`. "
   ]
  },
  {
   "cell_type": "code",
   "execution_count": 17,
   "metadata": {},
   "outputs": [
    {
     "name": "stdout",
     "output_type": "stream",
     "text": [
      "input shae: [None, 32, 32, 3]\n",
      "size: (4, 4, 3, 64)\n",
      "strides: (2, 2)\n",
      "input shae: [None, 32, 32, 3]\n",
      "size: (4, 4, 3, 64)\n",
      "strides: (2, 2)\n",
      "Neural Network Built!\n"
     ]
    }
   ],
   "source": [
    "def conv_net(x, keep_prob):\n",
    "    \"\"\"\n",
    "    Create a convolutional neural network model\n",
    "    : x: Placeholder tensor that holds image data.\n",
    "    : keep_prob: Placeholder tensor that hold dropout keep probability.\n",
    "    : return: Tensor that represents logits\n",
    "    \"\"\"\n",
    "    \n",
    "    conv_num_outputs = 64\n",
    "    conv_ksize = (4, 4)\n",
    "    conv_strides = (2, 2)\n",
    "    pool_ksize = (4, 4)\n",
    "    pool_strides = (1, 1)\n",
    "    num_outputs = 10\n",
    "    fully_num_outputs = 64\n",
    "    \n",
    "    # TODO: Apply 1, 2, or 3 Convolution and Max Pool layers\n",
    "    #    Play around with different number of outputs, kernel size and stride\n",
    "    # Function Definition from Above:\n",
    "    #    conv2d_maxpool(x_tensor, conv_num_outputs, conv_ksize, conv_strides, pool_ksize, pool_strides)\n",
    "    x_tensor = conv2d_maxpool(x, conv_num_outputs, conv_ksize, conv_strides, pool_ksize, pool_strides)\n",
    "\n",
    "    # TODO: Apply a Flatten Layer\n",
    "    # Function Definition from Above:\n",
    "    #   flatten(x_tensor)\n",
    "    x_tensor = flatten(x_tensor)\n",
    "\n",
    "    # TODO: Apply 1, 2, or 3 Fully Connected Layers\n",
    "    #    Play around with different number of outputs\n",
    "    # Function Definition from Above:\n",
    "    #   fully_conn(x_tensor, num_outputs)\n",
    "    x_tensor = fully_conn(x_tensor, fully_num_outputs)\n",
    "    x_tensor = tf.nn.dropout(x_tensor, keep_prob)\n",
    "    \n",
    "    # TODO: Apply an Output Layer\n",
    "    #    Set this to the number of classes\n",
    "    # Function Definition from Above:\n",
    "    #   output(x_tensor, num_outputs)\n",
    "    x_tensor = output(x_tensor, num_outputs)\n",
    "    \n",
    "    # TODO: return output\n",
    "    return x_tensor\n",
    "\n",
    "\n",
    "\"\"\"\n",
    "DON'T MODIFY ANYTHING IN THIS CELL THAT IS BELOW THIS LINE\n",
    "\"\"\"\n",
    "\n",
    "##############################\n",
    "## Build the Neural Network ##\n",
    "##############################\n",
    "\n",
    "# Remove previous weights, bias, inputs, etc..\n",
    "tf.reset_default_graph()\n",
    "\n",
    "# Inputs\n",
    "x = neural_net_image_input((32, 32, 3))\n",
    "y = neural_net_label_input(10)\n",
    "keep_prob = neural_net_keep_prob_input()\n",
    "\n",
    "# Model\n",
    "logits = conv_net(x, keep_prob)\n",
    "\n",
    "# Name logits Tensor, so that is can be loaded from disk after training\n",
    "logits = tf.identity(logits, name='logits')\n",
    "\n",
    "# Loss and Optimizer\n",
    "cost = tf.reduce_mean(tf.nn.softmax_cross_entropy_with_logits(logits=logits, labels=y))\n",
    "optimizer = tf.train.AdamOptimizer().minimize(cost)\n",
    "\n",
    "# Accuracy\n",
    "correct_pred = tf.equal(tf.argmax(logits, 1), tf.argmax(y, 1))\n",
    "accuracy = tf.reduce_mean(tf.cast(correct_pred, tf.float32), name='accuracy')\n",
    "\n",
    "tests.test_conv_net(conv_net)"
   ]
  },
  {
   "cell_type": "markdown",
   "metadata": {},
   "source": [
    "## Train the Neural Network\n",
    "### Single Optimization\n",
    "Implement the function `train_neural_network` to do a single optimization.  The optimization should use `optimizer` to optimize in `session` with a `feed_dict` of the following:\n",
    "* `x` for image input\n",
    "* `y` for labels\n",
    "* `keep_prob` for keep probability for dropout\n",
    "\n",
    "This function will be called for each batch, so `tf.global_variables_initializer()` has already been called.\n",
    "\n",
    "Note: Nothing needs to be returned. This function is only optimizing the neural network."
   ]
  },
  {
   "cell_type": "code",
   "execution_count": 18,
   "metadata": {},
   "outputs": [
    {
     "name": "stdout",
     "output_type": "stream",
     "text": [
      "Tests Passed\n"
     ]
    }
   ],
   "source": [
    "def train_neural_network(session, optimizer, keep_probability, feature_batch, label_batch):\n",
    "    \"\"\"\n",
    "    Optimize the session on a batch of images and labels\n",
    "    : session: Current TensorFlow session\n",
    "    : optimizer: TensorFlow optimizer function\n",
    "    : keep_probability: keep probability\n",
    "    : feature_batch: Batch of Numpy image data\n",
    "    : label_batch: Batch of Numpy label data\n",
    "    \"\"\"\n",
    "    # TODO: Implement Function\n",
    "    session.run(optimizer, \n",
    "               feed_dict = {x : feature_batch, \n",
    "                            y : label_batch,\n",
    "                            keep_prob : keep_probability\n",
    "                           })\n",
    "\n",
    "\n",
    "\"\"\"\n",
    "DON'T MODIFY ANYTHING IN THIS CELL THAT IS BELOW THIS LINE\n",
    "\"\"\"\n",
    "tests.test_train_nn(train_neural_network)"
   ]
  },
  {
   "cell_type": "markdown",
   "metadata": {},
   "source": [
    "### Show Stats\n",
    "Implement the function `print_stats` to print loss and validation accuracy.  Use the global variables `valid_features` and `valid_labels` to calculate validation accuracy.  Use a keep probability of `1.0` to calculate the loss and validation accuracy."
   ]
  },
  {
   "cell_type": "code",
   "execution_count": 19,
   "metadata": {
    "collapsed": true
   },
   "outputs": [],
   "source": [
    "def print_stats(session, feature_batch, label_batch, cost, accuracy):\n",
    "    \"\"\"\n",
    "    Print information about loss and validation accuracy\n",
    "    : session: Current TensorFlow session\n",
    "    : feature_batch: Batch of Numpy image data\n",
    "    : label_batch: Batch of Numpy label data\n",
    "    : cost: TensorFlow cost function\n",
    "    : accuracy: TensorFlow accuracy function\n",
    "    \"\"\"\n",
    "    # TODO: Implement Function\n",
    "    loss = session.run(cost, feed_dict = {\n",
    "        x : feature_batch,\n",
    "        y : label_batch,\n",
    "        keep_prob : 1.0\n",
    "    })\n",
    "    \n",
    "    valid_acc = session.run(accuracy, feed_dict = {\n",
    "        x : valid_features,\n",
    "        y : valid_labels,\n",
    "        keep_prob : 1.0\n",
    "    })\n",
    "    \n",
    "    print('Loss: {:>10.4f} Validation Accuracy: {:.6f}'.format(loss, valid_acc))"
   ]
  },
  {
   "cell_type": "markdown",
   "metadata": {},
   "source": [
    "### Hyperparameters\n",
    "Tune the following parameters:\n",
    "* Set `epochs` to the number of iterations until the network stops learning or start overfitting\n",
    "* Set `batch_size` to the highest number that your machine has memory for.  Most people set them to common sizes of memory:\n",
    " * 64\n",
    " * 128\n",
    " * 256\n",
    " * ...\n",
    "* Set `keep_probability` to the probability of keeping a node using dropout"
   ]
  },
  {
   "cell_type": "code",
   "execution_count": 20,
   "metadata": {
    "collapsed": true
   },
   "outputs": [],
   "source": [
    "# TODO: Tune Parameters\n",
    "epochs = 50\n",
    "batch_size = 1024\n",
    "keep_probability = 0.8"
   ]
  },
  {
   "cell_type": "markdown",
   "metadata": {},
   "source": [
    "### Train on a Single CIFAR-10 Batch\n",
    "Instead of training the neural network on all the CIFAR-10 batches of data, let's use a single batch. This should save time while you iterate on the model to get a better accuracy.  Once the final validation accuracy is 50% or greater, run the model on all the data in the next section."
   ]
  },
  {
   "cell_type": "code",
   "execution_count": 21,
   "metadata": {},
   "outputs": [
    {
     "name": "stdout",
     "output_type": "stream",
     "text": [
      "Checking the Training on a Single Batch...\n",
      "Epoch  1, CIFAR-10 Batch 1:  Loss:     2.2361 Validation Accuracy: 0.189200\n",
      "Epoch  2, CIFAR-10 Batch 1:  Loss:     2.0665 Validation Accuracy: 0.246800\n",
      "Epoch  3, CIFAR-10 Batch 1:  Loss:     1.9776 Validation Accuracy: 0.287200\n",
      "Epoch  4, CIFAR-10 Batch 1:  Loss:     1.8786 Validation Accuracy: 0.344200\n",
      "Epoch  5, CIFAR-10 Batch 1:  Loss:     1.8042 Validation Accuracy: 0.346800\n",
      "Epoch  6, CIFAR-10 Batch 1:  Loss:     1.7662 Validation Accuracy: 0.367000\n",
      "Epoch  7, CIFAR-10 Batch 1:  Loss:     1.7285 Validation Accuracy: 0.374200\n",
      "Epoch  8, CIFAR-10 Batch 1:  Loss:     1.6641 Validation Accuracy: 0.406800\n",
      "Epoch  9, CIFAR-10 Batch 1:  Loss:     1.6210 Validation Accuracy: 0.418200\n",
      "Epoch 10, CIFAR-10 Batch 1:  Loss:     1.5814 Validation Accuracy: 0.427200\n",
      "Epoch 11, CIFAR-10 Batch 1:  Loss:     1.5466 Validation Accuracy: 0.438000\n",
      "Epoch 12, CIFAR-10 Batch 1:  Loss:     1.5168 Validation Accuracy: 0.444000\n",
      "Epoch 13, CIFAR-10 Batch 1:  Loss:     1.4908 Validation Accuracy: 0.451800\n",
      "Epoch 14, CIFAR-10 Batch 1:  Loss:     1.4642 Validation Accuracy: 0.464800\n",
      "Epoch 15, CIFAR-10 Batch 1:  Loss:     1.4378 Validation Accuracy: 0.469600\n",
      "Epoch 16, CIFAR-10 Batch 1:  Loss:     1.4173 Validation Accuracy: 0.476200\n",
      "Epoch 17, CIFAR-10 Batch 1:  Loss:     1.4014 Validation Accuracy: 0.481600\n",
      "Epoch 18, CIFAR-10 Batch 1:  Loss:     1.3786 Validation Accuracy: 0.491000\n",
      "Epoch 19, CIFAR-10 Batch 1:  Loss:     1.3521 Validation Accuracy: 0.496800\n",
      "Epoch 20, CIFAR-10 Batch 1:  Loss:     1.3531 Validation Accuracy: 0.497000\n",
      "Epoch 21, CIFAR-10 Batch 1:  Loss:     1.3146 Validation Accuracy: 0.505800\n",
      "Epoch 22, CIFAR-10 Batch 1:  Loss:     1.3071 Validation Accuracy: 0.506000\n",
      "Epoch 23, CIFAR-10 Batch 1:  Loss:     1.2903 Validation Accuracy: 0.505400\n",
      "Epoch 24, CIFAR-10 Batch 1:  Loss:     1.2825 Validation Accuracy: 0.509200\n",
      "Epoch 25, CIFAR-10 Batch 1:  Loss:     1.2678 Validation Accuracy: 0.512200\n",
      "Epoch 26, CIFAR-10 Batch 1:  Loss:     1.2480 Validation Accuracy: 0.513800\n",
      "Epoch 27, CIFAR-10 Batch 1:  Loss:     1.2334 Validation Accuracy: 0.523000\n",
      "Epoch 28, CIFAR-10 Batch 1:  Loss:     1.2347 Validation Accuracy: 0.523600\n",
      "Epoch 29, CIFAR-10 Batch 1:  Loss:     1.2080 Validation Accuracy: 0.527200\n",
      "Epoch 30, CIFAR-10 Batch 1:  Loss:     1.2005 Validation Accuracy: 0.529000\n",
      "Epoch 31, CIFAR-10 Batch 1:  Loss:     1.1910 Validation Accuracy: 0.529800\n",
      "Epoch 32, CIFAR-10 Batch 1:  Loss:     1.1742 Validation Accuracy: 0.533200\n",
      "Epoch 33, CIFAR-10 Batch 1:  Loss:     1.1597 Validation Accuracy: 0.535400\n",
      "Epoch 34, CIFAR-10 Batch 1:  Loss:     1.1551 Validation Accuracy: 0.534000\n",
      "Epoch 35, CIFAR-10 Batch 1:  Loss:     1.1428 Validation Accuracy: 0.538400\n",
      "Epoch 36, CIFAR-10 Batch 1:  Loss:     1.1247 Validation Accuracy: 0.539600\n",
      "Epoch 37, CIFAR-10 Batch 1:  Loss:     1.1220 Validation Accuracy: 0.546800\n",
      "Epoch 38, CIFAR-10 Batch 1:  Loss:     1.1038 Validation Accuracy: 0.548800\n",
      "Epoch 39, CIFAR-10 Batch 1:  Loss:     1.0955 Validation Accuracy: 0.546200\n",
      "Epoch 40, CIFAR-10 Batch 1:  Loss:     1.0739 Validation Accuracy: 0.552600\n",
      "Epoch 41, CIFAR-10 Batch 1:  Loss:     1.0706 Validation Accuracy: 0.555400\n",
      "Epoch 42, CIFAR-10 Batch 1:  Loss:     1.0546 Validation Accuracy: 0.553000\n",
      "Epoch 43, CIFAR-10 Batch 1:  Loss:     1.0618 Validation Accuracy: 0.550000\n",
      "Epoch 44, CIFAR-10 Batch 1:  Loss:     1.0461 Validation Accuracy: 0.557000\n",
      "Epoch 45, CIFAR-10 Batch 1:  Loss:     1.0332 Validation Accuracy: 0.560400\n",
      "Epoch 46, CIFAR-10 Batch 1:  Loss:     1.0240 Validation Accuracy: 0.558600\n",
      "Epoch 47, CIFAR-10 Batch 1:  Loss:     1.0045 Validation Accuracy: 0.567800\n",
      "Epoch 48, CIFAR-10 Batch 1:  Loss:     0.9961 Validation Accuracy: 0.562600\n",
      "Epoch 49, CIFAR-10 Batch 1:  Loss:     0.9833 Validation Accuracy: 0.567400\n",
      "Epoch 50, CIFAR-10 Batch 1:  Loss:     0.9713 Validation Accuracy: 0.564200\n"
     ]
    }
   ],
   "source": [
    "\"\"\"\n",
    "DON'T MODIFY ANYTHING IN THIS CELL\n",
    "\"\"\"\n",
    "print('Checking the Training on a Single Batch...')\n",
    "with tf.Session() as sess:\n",
    "    # Initializing the variables\n",
    "    sess.run(tf.global_variables_initializer())\n",
    "    \n",
    "    # Training cycle\n",
    "    for epoch in range(epochs):\n",
    "        batch_i = 1\n",
    "        for batch_features, batch_labels in helper.load_preprocess_training_batch(batch_i, batch_size):\n",
    "            train_neural_network(sess, optimizer, keep_probability, batch_features, batch_labels)\n",
    "        print('Epoch {:>2}, CIFAR-10 Batch {}:  '.format(epoch + 1, batch_i), end='')\n",
    "        print_stats(sess, batch_features, batch_labels, cost, accuracy)"
   ]
  },
  {
   "cell_type": "markdown",
   "metadata": {},
   "source": [
    "### Fully Train the Model\n",
    "Now that you got a good accuracy with a single CIFAR-10 batch, try it with all five batches."
   ]
  },
  {
   "cell_type": "code",
   "execution_count": 22,
   "metadata": {},
   "outputs": [
    {
     "name": "stdout",
     "output_type": "stream",
     "text": [
      "Training...\n",
      "Epoch  1, CIFAR-10 Batch 1:  Loss:     2.2184 Validation Accuracy: 0.173400\n",
      "Epoch  1, CIFAR-10 Batch 2:  Loss:     2.0154 Validation Accuracy: 0.306000\n",
      "Epoch  1, CIFAR-10 Batch 3:  Loss:     1.9109 Validation Accuracy: 0.301000\n",
      "Epoch  1, CIFAR-10 Batch 4:  Loss:     1.8545 Validation Accuracy: 0.323200\n",
      "Epoch  1, CIFAR-10 Batch 5:  Loss:     1.8260 Validation Accuracy: 0.333600\n",
      "Epoch  2, CIFAR-10 Batch 1:  Loss:     1.7655 Validation Accuracy: 0.359600\n",
      "Epoch  2, CIFAR-10 Batch 2:  Loss:     1.7231 Validation Accuracy: 0.387400\n",
      "Epoch  2, CIFAR-10 Batch 3:  Loss:     1.6694 Validation Accuracy: 0.387400\n",
      "Epoch  2, CIFAR-10 Batch 4:  Loss:     1.5953 Validation Accuracy: 0.411400\n",
      "Epoch  2, CIFAR-10 Batch 5:  Loss:     1.6287 Validation Accuracy: 0.419400\n",
      "Epoch  3, CIFAR-10 Batch 1:  Loss:     1.5668 Validation Accuracy: 0.436800\n",
      "Epoch  3, CIFAR-10 Batch 2:  Loss:     1.5762 Validation Accuracy: 0.430400\n",
      "Epoch  3, CIFAR-10 Batch 3:  Loss:     1.4940 Validation Accuracy: 0.447600\n",
      "Epoch  3, CIFAR-10 Batch 4:  Loss:     1.4733 Validation Accuracy: 0.448000\n",
      "Epoch  3, CIFAR-10 Batch 5:  Loss:     1.5033 Validation Accuracy: 0.465400\n",
      "Epoch  4, CIFAR-10 Batch 1:  Loss:     1.4503 Validation Accuracy: 0.468400\n",
      "Epoch  4, CIFAR-10 Batch 2:  Loss:     1.4697 Validation Accuracy: 0.462600\n",
      "Epoch  4, CIFAR-10 Batch 3:  Loss:     1.3810 Validation Accuracy: 0.482200\n",
      "Epoch  4, CIFAR-10 Batch 4:  Loss:     1.3773 Validation Accuracy: 0.487600\n",
      "Epoch  4, CIFAR-10 Batch 5:  Loss:     1.4148 Validation Accuracy: 0.492800\n",
      "Epoch  5, CIFAR-10 Batch 1:  Loss:     1.3800 Validation Accuracy: 0.492000\n",
      "Epoch  5, CIFAR-10 Batch 2:  Loss:     1.3862 Validation Accuracy: 0.500200\n",
      "Epoch  5, CIFAR-10 Batch 3:  Loss:     1.3062 Validation Accuracy: 0.503600\n",
      "Epoch  5, CIFAR-10 Batch 4:  Loss:     1.3160 Validation Accuracy: 0.509800\n",
      "Epoch  5, CIFAR-10 Batch 5:  Loss:     1.3435 Validation Accuracy: 0.521600\n",
      "Epoch  6, CIFAR-10 Batch 1:  Loss:     1.3210 Validation Accuracy: 0.517400\n",
      "Epoch  6, CIFAR-10 Batch 2:  Loss:     1.3236 Validation Accuracy: 0.524200\n",
      "Epoch  6, CIFAR-10 Batch 3:  Loss:     1.2392 Validation Accuracy: 0.527800\n",
      "Epoch  6, CIFAR-10 Batch 4:  Loss:     1.2570 Validation Accuracy: 0.531200\n",
      "Epoch  6, CIFAR-10 Batch 5:  Loss:     1.2910 Validation Accuracy: 0.537000\n",
      "Epoch  7, CIFAR-10 Batch 1:  Loss:     1.2796 Validation Accuracy: 0.531800\n",
      "Epoch  7, CIFAR-10 Batch 2:  Loss:     1.2818 Validation Accuracy: 0.537400\n",
      "Epoch  7, CIFAR-10 Batch 3:  Loss:     1.2075 Validation Accuracy: 0.536400\n",
      "Epoch  7, CIFAR-10 Batch 4:  Loss:     1.2156 Validation Accuracy: 0.546000\n",
      "Epoch  7, CIFAR-10 Batch 5:  Loss:     1.2511 Validation Accuracy: 0.545000\n",
      "Epoch  8, CIFAR-10 Batch 1:  Loss:     1.2305 Validation Accuracy: 0.550200\n",
      "Epoch  8, CIFAR-10 Batch 2:  Loss:     1.2344 Validation Accuracy: 0.555800\n",
      "Epoch  8, CIFAR-10 Batch 3:  Loss:     1.1723 Validation Accuracy: 0.554000\n",
      "Epoch  8, CIFAR-10 Batch 4:  Loss:     1.1767 Validation Accuracy: 0.556200\n",
      "Epoch  8, CIFAR-10 Batch 5:  Loss:     1.2050 Validation Accuracy: 0.558000\n",
      "Epoch  9, CIFAR-10 Batch 1:  Loss:     1.1958 Validation Accuracy: 0.565000\n",
      "Epoch  9, CIFAR-10 Batch 2:  Loss:     1.1881 Validation Accuracy: 0.573400\n",
      "Epoch  9, CIFAR-10 Batch 3:  Loss:     1.1450 Validation Accuracy: 0.561600\n",
      "Epoch  9, CIFAR-10 Batch 4:  Loss:     1.1450 Validation Accuracy: 0.566800\n",
      "Epoch  9, CIFAR-10 Batch 5:  Loss:     1.1651 Validation Accuracy: 0.570800\n",
      "Epoch 10, CIFAR-10 Batch 1:  Loss:     1.1642 Validation Accuracy: 0.573200\n",
      "Epoch 10, CIFAR-10 Batch 2:  Loss:     1.1593 Validation Accuracy: 0.580400\n",
      "Epoch 10, CIFAR-10 Batch 3:  Loss:     1.1194 Validation Accuracy: 0.568600\n",
      "Epoch 10, CIFAR-10 Batch 4:  Loss:     1.1108 Validation Accuracy: 0.580200\n",
      "Epoch 10, CIFAR-10 Batch 5:  Loss:     1.1284 Validation Accuracy: 0.576200\n",
      "Epoch 11, CIFAR-10 Batch 1:  Loss:     1.1371 Validation Accuracy: 0.576200\n",
      "Epoch 11, CIFAR-10 Batch 2:  Loss:     1.1301 Validation Accuracy: 0.587400\n",
      "Epoch 11, CIFAR-10 Batch 3:  Loss:     1.0889 Validation Accuracy: 0.582400\n",
      "Epoch 11, CIFAR-10 Batch 4:  Loss:     1.0894 Validation Accuracy: 0.591600\n",
      "Epoch 11, CIFAR-10 Batch 5:  Loss:     1.0907 Validation Accuracy: 0.582600\n",
      "Epoch 12, CIFAR-10 Batch 1:  Loss:     1.1094 Validation Accuracy: 0.587800\n",
      "Epoch 12, CIFAR-10 Batch 2:  Loss:     1.0964 Validation Accuracy: 0.595800\n",
      "Epoch 12, CIFAR-10 Batch 3:  Loss:     1.0559 Validation Accuracy: 0.590400\n",
      "Epoch 12, CIFAR-10 Batch 4:  Loss:     1.0655 Validation Accuracy: 0.591200\n",
      "Epoch 12, CIFAR-10 Batch 5:  Loss:     1.0529 Validation Accuracy: 0.601200\n",
      "Epoch 13, CIFAR-10 Batch 1:  Loss:     1.0977 Validation Accuracy: 0.592000\n",
      "Epoch 13, CIFAR-10 Batch 2:  Loss:     1.0760 Validation Accuracy: 0.598400\n",
      "Epoch 13, CIFAR-10 Batch 3:  Loss:     1.0610 Validation Accuracy: 0.589000\n",
      "Epoch 13, CIFAR-10 Batch 4:  Loss:     1.0425 Validation Accuracy: 0.601600\n",
      "Epoch 13, CIFAR-10 Batch 5:  Loss:     1.0374 Validation Accuracy: 0.597800\n",
      "Epoch 14, CIFAR-10 Batch 1:  Loss:     1.0591 Validation Accuracy: 0.604200\n",
      "Epoch 14, CIFAR-10 Batch 2:  Loss:     1.0433 Validation Accuracy: 0.610000\n",
      "Epoch 14, CIFAR-10 Batch 3:  Loss:     1.0295 Validation Accuracy: 0.596000\n",
      "Epoch 14, CIFAR-10 Batch 4:  Loss:     1.0248 Validation Accuracy: 0.601400\n",
      "Epoch 14, CIFAR-10 Batch 5:  Loss:     1.0079 Validation Accuracy: 0.605600\n",
      "Epoch 15, CIFAR-10 Batch 1:  Loss:     1.0427 Validation Accuracy: 0.612000\n",
      "Epoch 15, CIFAR-10 Batch 2:  Loss:     1.0155 Validation Accuracy: 0.618000\n",
      "Epoch 15, CIFAR-10 Batch 3:  Loss:     0.9933 Validation Accuracy: 0.607000\n",
      "Epoch 15, CIFAR-10 Batch 4:  Loss:     0.9903 Validation Accuracy: 0.605000\n",
      "Epoch 15, CIFAR-10 Batch 5:  Loss:     0.9879 Validation Accuracy: 0.608800\n",
      "Epoch 16, CIFAR-10 Batch 1:  Loss:     1.0225 Validation Accuracy: 0.615400\n",
      "Epoch 16, CIFAR-10 Batch 2:  Loss:     0.9929 Validation Accuracy: 0.618600\n",
      "Epoch 16, CIFAR-10 Batch 3:  Loss:     0.9748 Validation Accuracy: 0.611200\n",
      "Epoch 16, CIFAR-10 Batch 4:  Loss:     0.9719 Validation Accuracy: 0.611200\n",
      "Epoch 16, CIFAR-10 Batch 5:  Loss:     0.9770 Validation Accuracy: 0.611400\n",
      "Epoch 17, CIFAR-10 Batch 1:  Loss:     1.0096 Validation Accuracy: 0.621400\n",
      "Epoch 17, CIFAR-10 Batch 2:  Loss:     0.9850 Validation Accuracy: 0.625800\n",
      "Epoch 17, CIFAR-10 Batch 3:  Loss:     0.9346 Validation Accuracy: 0.618000\n",
      "Epoch 17, CIFAR-10 Batch 4:  Loss:     0.9419 Validation Accuracy: 0.614800\n",
      "Epoch 17, CIFAR-10 Batch 5:  Loss:     0.9477 Validation Accuracy: 0.614000\n",
      "Epoch 18, CIFAR-10 Batch 1:  Loss:     0.9903 Validation Accuracy: 0.627000\n",
      "Epoch 18, CIFAR-10 Batch 2:  Loss:     0.9586 Validation Accuracy: 0.632000\n",
      "Epoch 18, CIFAR-10 Batch 3:  Loss:     0.9297 Validation Accuracy: 0.622400\n",
      "Epoch 18, CIFAR-10 Batch 4:  Loss:     0.9214 Validation Accuracy: 0.621600\n",
      "Epoch 18, CIFAR-10 Batch 5:  Loss:     0.9273 Validation Accuracy: 0.621000\n",
      "Epoch 19, CIFAR-10 Batch 1:  Loss:     0.9677 Validation Accuracy: 0.629200\n",
      "Epoch 19, CIFAR-10 Batch 2:  Loss:     0.9417 Validation Accuracy: 0.636800\n",
      "Epoch 19, CIFAR-10 Batch 3:  Loss:     0.9026 Validation Accuracy: 0.626000\n",
      "Epoch 19, CIFAR-10 Batch 4:  Loss:     0.9141 Validation Accuracy: 0.625600\n",
      "Epoch 19, CIFAR-10 Batch 5:  Loss:     0.9220 Validation Accuracy: 0.620600\n",
      "Epoch 20, CIFAR-10 Batch 1:  Loss:     0.9507 Validation Accuracy: 0.638600\n",
      "Epoch 20, CIFAR-10 Batch 2:  Loss:     0.9282 Validation Accuracy: 0.636200\n",
      "Epoch 20, CIFAR-10 Batch 3:  Loss:     0.8892 Validation Accuracy: 0.632800\n",
      "Epoch 20, CIFAR-10 Batch 4:  Loss:     0.8901 Validation Accuracy: 0.627800\n",
      "Epoch 20, CIFAR-10 Batch 5:  Loss:     0.8763 Validation Accuracy: 0.629400\n",
      "Epoch 21, CIFAR-10 Batch 1:  Loss:     0.9263 Validation Accuracy: 0.638800\n",
      "Epoch 21, CIFAR-10 Batch 2:  Loss:     0.9061 Validation Accuracy: 0.637600\n",
      "Epoch 21, CIFAR-10 Batch 3:  Loss:     0.8719 Validation Accuracy: 0.634000\n",
      "Epoch 21, CIFAR-10 Batch 4:  Loss:     0.8682 Validation Accuracy: 0.632800\n",
      "Epoch 21, CIFAR-10 Batch 5:  Loss:     0.8767 Validation Accuracy: 0.631600\n",
      "Epoch 22, CIFAR-10 Batch 1:  Loss:     0.9180 Validation Accuracy: 0.644400\n",
      "Epoch 22, CIFAR-10 Batch 2:  Loss:     0.8902 Validation Accuracy: 0.644000\n",
      "Epoch 22, CIFAR-10 Batch 3:  Loss:     0.8541 Validation Accuracy: 0.640400\n"
     ]
    },
    {
     "name": "stdout",
     "output_type": "stream",
     "text": [
      "Epoch 22, CIFAR-10 Batch 4:  Loss:     0.8650 Validation Accuracy: 0.633400\n",
      "Epoch 22, CIFAR-10 Batch 5:  Loss:     0.8549 Validation Accuracy: 0.632800\n",
      "Epoch 23, CIFAR-10 Batch 1:  Loss:     0.9074 Validation Accuracy: 0.641000\n",
      "Epoch 23, CIFAR-10 Batch 2:  Loss:     0.8770 Validation Accuracy: 0.647800\n",
      "Epoch 23, CIFAR-10 Batch 3:  Loss:     0.8483 Validation Accuracy: 0.637600\n",
      "Epoch 23, CIFAR-10 Batch 4:  Loss:     0.8458 Validation Accuracy: 0.650200\n",
      "Epoch 23, CIFAR-10 Batch 5:  Loss:     0.8303 Validation Accuracy: 0.644800\n",
      "Epoch 24, CIFAR-10 Batch 1:  Loss:     0.8834 Validation Accuracy: 0.649400\n",
      "Epoch 24, CIFAR-10 Batch 2:  Loss:     0.8581 Validation Accuracy: 0.646000\n",
      "Epoch 24, CIFAR-10 Batch 3:  Loss:     0.8317 Validation Accuracy: 0.647800\n",
      "Epoch 24, CIFAR-10 Batch 4:  Loss:     0.8279 Validation Accuracy: 0.645800\n",
      "Epoch 24, CIFAR-10 Batch 5:  Loss:     0.8277 Validation Accuracy: 0.639600\n",
      "Epoch 25, CIFAR-10 Batch 1:  Loss:     0.8791 Validation Accuracy: 0.650000\n",
      "Epoch 25, CIFAR-10 Batch 2:  Loss:     0.8530 Validation Accuracy: 0.645200\n",
      "Epoch 25, CIFAR-10 Batch 3:  Loss:     0.8257 Validation Accuracy: 0.643600\n",
      "Epoch 25, CIFAR-10 Batch 4:  Loss:     0.8175 Validation Accuracy: 0.654000\n",
      "Epoch 25, CIFAR-10 Batch 5:  Loss:     0.8064 Validation Accuracy: 0.646600\n",
      "Epoch 26, CIFAR-10 Batch 1:  Loss:     0.8494 Validation Accuracy: 0.647800\n",
      "Epoch 26, CIFAR-10 Batch 2:  Loss:     0.8375 Validation Accuracy: 0.655800\n",
      "Epoch 26, CIFAR-10 Batch 3:  Loss:     0.8178 Validation Accuracy: 0.640200\n",
      "Epoch 26, CIFAR-10 Batch 4:  Loss:     0.8278 Validation Accuracy: 0.646000\n",
      "Epoch 26, CIFAR-10 Batch 5:  Loss:     0.8095 Validation Accuracy: 0.644600\n",
      "Epoch 27, CIFAR-10 Batch 1:  Loss:     0.8453 Validation Accuracy: 0.653000\n",
      "Epoch 27, CIFAR-10 Batch 2:  Loss:     0.8297 Validation Accuracy: 0.652200\n",
      "Epoch 27, CIFAR-10 Batch 3:  Loss:     0.7865 Validation Accuracy: 0.657200\n",
      "Epoch 27, CIFAR-10 Batch 4:  Loss:     0.8282 Validation Accuracy: 0.642800\n",
      "Epoch 27, CIFAR-10 Batch 5:  Loss:     0.7741 Validation Accuracy: 0.658600\n",
      "Epoch 28, CIFAR-10 Batch 1:  Loss:     0.8340 Validation Accuracy: 0.652800\n",
      "Epoch 28, CIFAR-10 Batch 2:  Loss:     0.8097 Validation Accuracy: 0.652400\n",
      "Epoch 28, CIFAR-10 Batch 3:  Loss:     0.7789 Validation Accuracy: 0.655400\n",
      "Epoch 28, CIFAR-10 Batch 4:  Loss:     0.7928 Validation Accuracy: 0.658600\n",
      "Epoch 28, CIFAR-10 Batch 5:  Loss:     0.7680 Validation Accuracy: 0.657800\n",
      "Epoch 29, CIFAR-10 Batch 1:  Loss:     0.8156 Validation Accuracy: 0.658800\n",
      "Epoch 29, CIFAR-10 Batch 2:  Loss:     0.8062 Validation Accuracy: 0.654000\n",
      "Epoch 29, CIFAR-10 Batch 3:  Loss:     0.7868 Validation Accuracy: 0.649600\n",
      "Epoch 29, CIFAR-10 Batch 4:  Loss:     0.7987 Validation Accuracy: 0.649000\n",
      "Epoch 29, CIFAR-10 Batch 5:  Loss:     0.7731 Validation Accuracy: 0.655200\n",
      "Epoch 30, CIFAR-10 Batch 1:  Loss:     0.8070 Validation Accuracy: 0.660600\n",
      "Epoch 30, CIFAR-10 Batch 2:  Loss:     0.7870 Validation Accuracy: 0.656400\n",
      "Epoch 30, CIFAR-10 Batch 3:  Loss:     0.7665 Validation Accuracy: 0.654400\n",
      "Epoch 30, CIFAR-10 Batch 4:  Loss:     0.7798 Validation Accuracy: 0.651400\n",
      "Epoch 30, CIFAR-10 Batch 5:  Loss:     0.7672 Validation Accuracy: 0.658200\n",
      "Epoch 31, CIFAR-10 Batch 1:  Loss:     0.7949 Validation Accuracy: 0.665800\n",
      "Epoch 31, CIFAR-10 Batch 2:  Loss:     0.7868 Validation Accuracy: 0.660600\n",
      "Epoch 31, CIFAR-10 Batch 3:  Loss:     0.7740 Validation Accuracy: 0.650600\n",
      "Epoch 31, CIFAR-10 Batch 4:  Loss:     0.7875 Validation Accuracy: 0.643200\n",
      "Epoch 31, CIFAR-10 Batch 5:  Loss:     0.7622 Validation Accuracy: 0.651600\n",
      "Epoch 32, CIFAR-10 Batch 1:  Loss:     0.8113 Validation Accuracy: 0.660000\n",
      "Epoch 32, CIFAR-10 Batch 2:  Loss:     0.7828 Validation Accuracy: 0.662200\n",
      "Epoch 32, CIFAR-10 Batch 3:  Loss:     0.7652 Validation Accuracy: 0.658600\n",
      "Epoch 32, CIFAR-10 Batch 4:  Loss:     0.7931 Validation Accuracy: 0.645000\n",
      "Epoch 32, CIFAR-10 Batch 5:  Loss:     0.7490 Validation Accuracy: 0.654600\n",
      "Epoch 33, CIFAR-10 Batch 1:  Loss:     0.8055 Validation Accuracy: 0.661000\n",
      "Epoch 33, CIFAR-10 Batch 2:  Loss:     0.7749 Validation Accuracy: 0.657600\n",
      "Epoch 33, CIFAR-10 Batch 3:  Loss:     0.7385 Validation Accuracy: 0.657800\n",
      "Epoch 33, CIFAR-10 Batch 4:  Loss:     0.7495 Validation Accuracy: 0.658600\n",
      "Epoch 33, CIFAR-10 Batch 5:  Loss:     0.7680 Validation Accuracy: 0.645800\n",
      "Epoch 34, CIFAR-10 Batch 1:  Loss:     0.8002 Validation Accuracy: 0.662200\n",
      "Epoch 34, CIFAR-10 Batch 2:  Loss:     0.7571 Validation Accuracy: 0.663600\n",
      "Epoch 34, CIFAR-10 Batch 3:  Loss:     0.7339 Validation Accuracy: 0.657200\n",
      "Epoch 34, CIFAR-10 Batch 4:  Loss:     0.7579 Validation Accuracy: 0.651400\n",
      "Epoch 34, CIFAR-10 Batch 5:  Loss:     0.7365 Validation Accuracy: 0.659600\n",
      "Epoch 35, CIFAR-10 Batch 1:  Loss:     0.7751 Validation Accuracy: 0.664000\n",
      "Epoch 35, CIFAR-10 Batch 2:  Loss:     0.7426 Validation Accuracy: 0.662800\n",
      "Epoch 35, CIFAR-10 Batch 3:  Loss:     0.7476 Validation Accuracy: 0.655400\n",
      "Epoch 35, CIFAR-10 Batch 4:  Loss:     0.7614 Validation Accuracy: 0.651400\n",
      "Epoch 35, CIFAR-10 Batch 5:  Loss:     0.7048 Validation Accuracy: 0.666600\n",
      "Epoch 36, CIFAR-10 Batch 1:  Loss:     0.7686 Validation Accuracy: 0.665000\n",
      "Epoch 36, CIFAR-10 Batch 2:  Loss:     0.7477 Validation Accuracy: 0.661400\n",
      "Epoch 36, CIFAR-10 Batch 3:  Loss:     0.7128 Validation Accuracy: 0.654800\n",
      "Epoch 36, CIFAR-10 Batch 4:  Loss:     0.7292 Validation Accuracy: 0.663800\n",
      "Epoch 36, CIFAR-10 Batch 5:  Loss:     0.6979 Validation Accuracy: 0.667400\n",
      "Epoch 37, CIFAR-10 Batch 1:  Loss:     0.7574 Validation Accuracy: 0.663600\n",
      "Epoch 37, CIFAR-10 Batch 2:  Loss:     0.7314 Validation Accuracy: 0.665400\n",
      "Epoch 37, CIFAR-10 Batch 3:  Loss:     0.6983 Validation Accuracy: 0.661200\n",
      "Epoch 37, CIFAR-10 Batch 4:  Loss:     0.7374 Validation Accuracy: 0.653800\n",
      "Epoch 37, CIFAR-10 Batch 5:  Loss:     0.6904 Validation Accuracy: 0.670200\n",
      "Epoch 38, CIFAR-10 Batch 1:  Loss:     0.7525 Validation Accuracy: 0.666800\n",
      "Epoch 38, CIFAR-10 Batch 2:  Loss:     0.7272 Validation Accuracy: 0.660000\n",
      "Epoch 38, CIFAR-10 Batch 3:  Loss:     0.6915 Validation Accuracy: 0.666400\n",
      "Epoch 38, CIFAR-10 Batch 4:  Loss:     0.7102 Validation Accuracy: 0.656400\n",
      "Epoch 38, CIFAR-10 Batch 5:  Loss:     0.6685 Validation Accuracy: 0.672200\n",
      "Epoch 39, CIFAR-10 Batch 1:  Loss:     0.7268 Validation Accuracy: 0.670200\n",
      "Epoch 39, CIFAR-10 Batch 2:  Loss:     0.7293 Validation Accuracy: 0.655800\n",
      "Epoch 39, CIFAR-10 Batch 3:  Loss:     0.6865 Validation Accuracy: 0.665000\n",
      "Epoch 39, CIFAR-10 Batch 4:  Loss:     0.7122 Validation Accuracy: 0.658400\n",
      "Epoch 39, CIFAR-10 Batch 5:  Loss:     0.6598 Validation Accuracy: 0.670400\n",
      "Epoch 40, CIFAR-10 Batch 1:  Loss:     0.7202 Validation Accuracy: 0.671000\n",
      "Epoch 40, CIFAR-10 Batch 2:  Loss:     0.7252 Validation Accuracy: 0.662400\n",
      "Epoch 40, CIFAR-10 Batch 3:  Loss:     0.6667 Validation Accuracy: 0.669200\n",
      "Epoch 40, CIFAR-10 Batch 4:  Loss:     0.6975 Validation Accuracy: 0.664600\n",
      "Epoch 40, CIFAR-10 Batch 5:  Loss:     0.6505 Validation Accuracy: 0.670800\n",
      "Epoch 41, CIFAR-10 Batch 1:  Loss:     0.7190 Validation Accuracy: 0.668400\n",
      "Epoch 41, CIFAR-10 Batch 2:  Loss:     0.7460 Validation Accuracy: 0.648200\n",
      "Epoch 41, CIFAR-10 Batch 3:  Loss:     0.6848 Validation Accuracy: 0.662600\n",
      "Epoch 41, CIFAR-10 Batch 4:  Loss:     0.7052 Validation Accuracy: 0.658800\n",
      "Epoch 41, CIFAR-10 Batch 5:  Loss:     0.6504 Validation Accuracy: 0.664200\n",
      "Epoch 42, CIFAR-10 Batch 1:  Loss:     0.7357 Validation Accuracy: 0.664800\n",
      "Epoch 42, CIFAR-10 Batch 2:  Loss:     0.7192 Validation Accuracy: 0.659600\n",
      "Epoch 42, CIFAR-10 Batch 3:  Loss:     0.6578 Validation Accuracy: 0.670600\n",
      "Epoch 42, CIFAR-10 Batch 4:  Loss:     0.7343 Validation Accuracy: 0.640400\n",
      "Epoch 42, CIFAR-10 Batch 5:  Loss:     0.6380 Validation Accuracy: 0.664800\n",
      "Epoch 43, CIFAR-10 Batch 1:  Loss:     0.7179 Validation Accuracy: 0.671600\n",
      "Epoch 43, CIFAR-10 Batch 2:  Loss:     0.6778 Validation Accuracy: 0.665400\n",
      "Epoch 43, CIFAR-10 Batch 3:  Loss:     0.6666 Validation Accuracy: 0.668200\n",
      "Epoch 43, CIFAR-10 Batch 4:  Loss:     0.7336 Validation Accuracy: 0.639400\n",
      "Epoch 43, CIFAR-10 Batch 5:  Loss:     0.6398 Validation Accuracy: 0.663800\n",
      "Epoch 44, CIFAR-10 Batch 1:  Loss:     0.7081 Validation Accuracy: 0.676400\n"
     ]
    },
    {
     "name": "stdout",
     "output_type": "stream",
     "text": [
      "Epoch 44, CIFAR-10 Batch 2:  Loss:     0.6697 Validation Accuracy: 0.662000\n",
      "Epoch 44, CIFAR-10 Batch 3:  Loss:     0.6820 Validation Accuracy: 0.665400\n",
      "Epoch 44, CIFAR-10 Batch 4:  Loss:     0.7273 Validation Accuracy: 0.641600\n",
      "Epoch 44, CIFAR-10 Batch 5:  Loss:     0.6602 Validation Accuracy: 0.664000\n",
      "Epoch 45, CIFAR-10 Batch 1:  Loss:     0.6932 Validation Accuracy: 0.674200\n",
      "Epoch 45, CIFAR-10 Batch 2:  Loss:     0.6680 Validation Accuracy: 0.668400\n",
      "Epoch 45, CIFAR-10 Batch 3:  Loss:     0.6604 Validation Accuracy: 0.667400\n",
      "Epoch 45, CIFAR-10 Batch 4:  Loss:     0.6893 Validation Accuracy: 0.646200\n",
      "Epoch 45, CIFAR-10 Batch 5:  Loss:     0.6312 Validation Accuracy: 0.667600\n",
      "Epoch 46, CIFAR-10 Batch 1:  Loss:     0.6912 Validation Accuracy: 0.678200\n",
      "Epoch 46, CIFAR-10 Batch 2:  Loss:     0.6568 Validation Accuracy: 0.666800\n",
      "Epoch 46, CIFAR-10 Batch 3:  Loss:     0.6679 Validation Accuracy: 0.662200\n",
      "Epoch 46, CIFAR-10 Batch 4:  Loss:     0.6848 Validation Accuracy: 0.653400\n",
      "Epoch 46, CIFAR-10 Batch 5:  Loss:     0.6245 Validation Accuracy: 0.665000\n",
      "Epoch 47, CIFAR-10 Batch 1:  Loss:     0.6775 Validation Accuracy: 0.676800\n",
      "Epoch 47, CIFAR-10 Batch 2:  Loss:     0.6655 Validation Accuracy: 0.659200\n",
      "Epoch 47, CIFAR-10 Batch 3:  Loss:     0.6496 Validation Accuracy: 0.666800\n",
      "Epoch 47, CIFAR-10 Batch 4:  Loss:     0.6842 Validation Accuracy: 0.657400\n",
      "Epoch 47, CIFAR-10 Batch 5:  Loss:     0.6321 Validation Accuracy: 0.666200\n",
      "Epoch 48, CIFAR-10 Batch 1:  Loss:     0.6552 Validation Accuracy: 0.683200\n",
      "Epoch 48, CIFAR-10 Batch 2:  Loss:     0.6359 Validation Accuracy: 0.674000\n",
      "Epoch 48, CIFAR-10 Batch 3:  Loss:     0.6469 Validation Accuracy: 0.666800\n",
      "Epoch 48, CIFAR-10 Batch 4:  Loss:     0.6618 Validation Accuracy: 0.659800\n",
      "Epoch 48, CIFAR-10 Batch 5:  Loss:     0.6121 Validation Accuracy: 0.668400\n",
      "Epoch 49, CIFAR-10 Batch 1:  Loss:     0.6510 Validation Accuracy: 0.680400\n",
      "Epoch 49, CIFAR-10 Batch 2:  Loss:     0.6377 Validation Accuracy: 0.669800\n",
      "Epoch 49, CIFAR-10 Batch 3:  Loss:     0.6484 Validation Accuracy: 0.674000\n",
      "Epoch 49, CIFAR-10 Batch 4:  Loss:     0.6534 Validation Accuracy: 0.663200\n",
      "Epoch 49, CIFAR-10 Batch 5:  Loss:     0.5852 Validation Accuracy: 0.669400\n",
      "Epoch 50, CIFAR-10 Batch 1:  Loss:     0.6354 Validation Accuracy: 0.683000\n",
      "Epoch 50, CIFAR-10 Batch 2:  Loss:     0.6292 Validation Accuracy: 0.674200\n",
      "Epoch 50, CIFAR-10 Batch 3:  Loss:     0.6366 Validation Accuracy: 0.670400\n",
      "Epoch 50, CIFAR-10 Batch 4:  Loss:     0.6501 Validation Accuracy: 0.663600\n",
      "Epoch 50, CIFAR-10 Batch 5:  Loss:     0.5855 Validation Accuracy: 0.669400\n"
     ]
    }
   ],
   "source": [
    "\"\"\"\n",
    "DON'T MODIFY ANYTHING IN THIS CELL\n",
    "\"\"\"\n",
    "save_model_path = './image_classification'\n",
    "\n",
    "print('Training...')\n",
    "with tf.Session() as sess:\n",
    "    # Initializing the variables\n",
    "    sess.run(tf.global_variables_initializer())\n",
    "    \n",
    "    # Training cycle\n",
    "    for epoch in range(epochs):\n",
    "        # Loop over all batches\n",
    "        n_batches = 5\n",
    "        for batch_i in range(1, n_batches + 1):\n",
    "            for batch_features, batch_labels in helper.load_preprocess_training_batch(batch_i, batch_size):\n",
    "                train_neural_network(sess, optimizer, keep_probability, batch_features, batch_labels)\n",
    "            print('Epoch {:>2}, CIFAR-10 Batch {}:  '.format(epoch + 1, batch_i), end='')\n",
    "            print_stats(sess, batch_features, batch_labels, cost, accuracy)\n",
    "            \n",
    "    # Save Model\n",
    "    saver = tf.train.Saver()\n",
    "    save_path = saver.save(sess, save_model_path)"
   ]
  },
  {
   "cell_type": "markdown",
   "metadata": {},
   "source": [
    "# Checkpoint\n",
    "The model has been saved to disk.\n",
    "## Test Model\n",
    "Test your model against the test dataset.  This will be your final accuracy. You should have an accuracy greater than 50%. If you don't, keep tweaking the model architecture and parameters."
   ]
  },
  {
   "cell_type": "code",
   "execution_count": 23,
   "metadata": {},
   "outputs": [
    {
     "name": "stdout",
     "output_type": "stream",
     "text": [
      "INFO:tensorflow:Restoring parameters from ./image_classification\n",
      "Testing Accuracy: 0.6730269432067871\n",
      "\n"
     ]
    },
    {
     "data": {
      "image/png": "[encoded data removed]",
      "text/plain": [
       "<matplotlib.figure.Figure at 0x7f64baf18978>"
      ]
     },
     "metadata": {
      "image/png": {
       "height": 319,
       "width": 355
      }
     },
     "output_type": "display_data"
    }
   ],
   "source": [
    "\"\"\"\n",
    "DON'T MODIFY ANYTHING IN THIS CELL\n",
    "\"\"\"\n",
    "%matplotlib inline\n",
    "%config InlineBackend.figure_format = 'retina'\n",
    "\n",
    "import tensorflow as tf\n",
    "import pickle\n",
    "import helper\n",
    "import random\n",
    "\n",
    "# Set batch size if not already set\n",
    "try:\n",
    "    if batch_size:\n",
    "        pass\n",
    "except NameError:\n",
    "    batch_size = 64\n",
    "\n",
    "save_model_path = './image_classification'\n",
    "n_samples = 4\n",
    "top_n_predictions = 3\n",
    "\n",
    "def test_model():\n",
    "    \"\"\"\n",
    "    Test the saved model against the test dataset\n",
    "    \"\"\"\n",
    "\n",
    "    test_features, test_labels = pickle.load(open('preprocess_training.p', mode='rb'))\n",
    "    loaded_graph = tf.Graph()\n",
    "\n",
    "    with tf.Session(graph=loaded_graph) as sess:\n",
    "        # Load model\n",
    "        loader = tf.train.import_meta_graph(save_model_path + '.meta')\n",
    "        loader.restore(sess, save_model_path)\n",
    "\n",
    "        # Get Tensors from loaded model\n",
    "        loaded_x = loaded_graph.get_tensor_by_name('x:0')\n",
    "        loaded_y = loaded_graph.get_tensor_by_name('y:0')\n",
    "        loaded_keep_prob = loaded_graph.get_tensor_by_name('keep_prob:0')\n",
    "        loaded_logits = loaded_graph.get_tensor_by_name('logits:0')\n",
    "        loaded_acc = loaded_graph.get_tensor_by_name('accuracy:0')\n",
    "        \n",
    "        # Get accuracy in batches for memory limitations\n",
    "        test_batch_acc_total = 0\n",
    "        test_batch_count = 0\n",
    "        \n",
    "        for train_feature_batch, train_label_batch in helper.batch_features_labels(test_features, test_labels, batch_size):\n",
    "            test_batch_acc_total += sess.run(\n",
    "                loaded_acc,\n",
    "                feed_dict={loaded_x: train_feature_batch, loaded_y: train_label_batch, loaded_keep_prob: 1.0})\n",
    "            test_batch_count += 1\n",
    "\n",
    "        print('Testing Accuracy: {}\\n'.format(test_batch_acc_total/test_batch_count))\n",
    "\n",
    "        # Print Random Samples\n",
    "        random_test_features, random_test_labels = tuple(zip(*random.sample(list(zip(test_features, test_labels)), n_samples)))\n",
    "        random_test_predictions = sess.run(\n",
    "            tf.nn.top_k(tf.nn.softmax(loaded_logits), top_n_predictions),\n",
    "            feed_dict={loaded_x: random_test_features, loaded_y: random_test_labels, loaded_keep_prob: 1.0})\n",
    "        helper.display_image_predictions(random_test_features, random_test_labels, random_test_predictions)\n",
    "\n",
    "\n",
    "test_model()"
   ]
  },
  {
   "cell_type": "markdown",
   "metadata": {},
   "source": [
    "## Why 50-70% Accuracy?\n",
    "You might be wondering why you can't get an accuracy any higher. First things first, 50% isn't bad for a simple CNN.  Pure guessing would get you 10% accuracy. However, you might notice people are getting scores [well above 70%](http://rodrigob.github.io/are_we_there_yet/build/classification_datasets_results.html#43494641522d3130).  That's because we haven't taught you all there is to know about neural networks. We still need to cover a few more techniques.\n",
    "## Submitting This Project\n",
    "When submitting this project, make sure to run all the cells before saving the notebook.  Save the notebook file as \"dlnd_image_classification.ipynb\" and save it as a HTML file under \"File\" -> \"Download as\".  Include the \"helper.py\" and \"problem_unittests.py\" files in your submission."
   ]
  }
 ],
 "metadata": {
  "kernelspec": {
   "display_name": "Python 3",
   "language": "python",
   "name": "python3"
  },
  "language_info": {
   "codemirror_mode": {
    "name": "ipython",
    "version": 3
   },
   "file_extension": ".py",
   "mimetype": "text/x-python",
   "name": "python",
   "nbconvert_exporter": "python",
   "pygments_lexer": "ipython3",
   "version": "3.5.3"
  }
 },
 "nbformat": 4,
 "nbformat_minor": 1
}
