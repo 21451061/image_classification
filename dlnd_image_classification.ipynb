{
 "cells": [
  {
   "cell_type": "markdown",
   "metadata": {
    "collapsed": true
   },
   "source": [
    "# Image Classification\n",
    "In this project, you'll classify images from the [CIFAR-10 dataset](https://www.cs.toronto.edu/~kriz/cifar.html).  The dataset consists of airplanes, dogs, cats, and other objects. You'll preprocess the images, then train a convolutional neural network on all the samples. The images need to be normalized and the labels need to be one-hot encoded.  You'll get to apply what you learned and build a convolutional, max pooling, dropout, and fully connected layers.  At the end, you'll get to see your neural network's predictions on the sample images.\n",
    "## Get the Data\n",
    "Run the following cell to download the [CIFAR-10 dataset for python](https://www.cs.toronto.edu/~kriz/cifar-10-python.tar.gz)."
   ]
  },
  {
   "cell_type": "code",
   "execution_count": 1,
   "metadata": {},
   "outputs": [
    {
     "name": "stdout",
     "output_type": "stream",
     "text": [
      "All files found!\n"
     ]
    }
   ],
   "source": [
    "\"\"\"\n",
    "DON'T MODIFY ANYTHING IN THIS CELL THAT IS BELOW THIS LINE\n",
    "\"\"\"\n",
    "from urllib.request import urlretrieve\n",
    "from os.path import isfile, isdir\n",
    "from tqdm import tqdm\n",
    "import problem_unittests as tests\n",
    "import tarfile\n",
    "\n",
    "cifar10_dataset_folder_path = 'cifar-10-batches-py'\n",
    "\n",
    "# Use Floyd's cifar-10 dataset if present\n",
    "floyd_cifar10_location = '/input/cifar-10/python.tar.gz'\n",
    "if isfile(floyd_cifar10_location):\n",
    "    tar_gz_path = floyd_cifar10_location\n",
    "else:\n",
    "    tar_gz_path = 'cifar-10-python.tar.gz'\n",
    "\n",
    "class DLProgress(tqdm):\n",
    "    last_block = 0\n",
    "\n",
    "    def hook(self, block_num=1, block_size=1, total_size=None):\n",
    "        self.total = total_size\n",
    "        self.update((block_num - self.last_block) * block_size)\n",
    "        self.last_block = block_num\n",
    "\n",
    "if not isfile(tar_gz_path):\n",
    "    with DLProgress(unit='B', unit_scale=True, miniters=1, desc='CIFAR-10 Dataset') as pbar:\n",
    "        urlretrieve(\n",
    "            'https://www.cs.toronto.edu/~kriz/cifar-10-python.tar.gz',\n",
    "            tar_gz_path,\n",
    "            pbar.hook)\n",
    "\n",
    "if not isdir(cifar10_dataset_folder_path):\n",
    "    with tarfile.open(tar_gz_path) as tar:\n",
    "        tar.extractall()\n",
    "        tar.close()\n",
    "\n",
    "\n",
    "tests.test_folder_path(cifar10_dataset_folder_path)"
   ]
  },
  {
   "cell_type": "markdown",
   "metadata": {},
   "source": [
    "## Explore the Data\n",
    "The dataset is broken into batches to prevent your machine from running out of memory.  The CIFAR-10 dataset consists of 5 batches, named `data_batch_1`, `data_batch_2`, etc.. Each batch contains the labels and images that are one of the following:\n",
    "* airplane\n",
    "* automobile\n",
    "* bird\n",
    "* cat\n",
    "* deer\n",
    "* dog\n",
    "* frog\n",
    "* horse\n",
    "* ship\n",
    "* truck\n",
    "\n",
    "Understanding a dataset is part of making predictions on the data.  Play around with the code cell below by changing the `batch_id` and `sample_id`. The `batch_id` is the id for a batch (1-5). The `sample_id` is the id for a image and label pair in the batch.\n",
    "\n",
    "Ask yourself \"What are all possible labels?\", \"What is the range of values for the image data?\", \"Are the labels in order or random?\".  Answers to questions like these will help you preprocess the data and end up with better predictions."
   ]
  },
  {
   "cell_type": "code",
   "execution_count": 2,
   "metadata": {},
   "outputs": [
    {
     "name": "stdout",
     "output_type": "stream",
     "text": [
      "\n",
      "Stats of batch 1:\n",
      "Samples: 10000\n",
      "Label Counts: {0: 1005, 1: 974, 2: 1032, 3: 1016, 4: 999, 5: 937, 6: 1030, 7: 1001, 8: 1025, 9: 981}\n",
      "First 20 Labels: [6, 9, 9, 4, 1, 1, 2, 7, 8, 3, 4, 7, 7, 2, 9, 9, 9, 3, 2, 6]\n",
      "\n",
      "Example of Image 5:\n",
      "Image - Min Value: 0 Max Value: 252\n",
      "Image - Shape: (32, 32, 3)\n",
      "Label - Label Id: 1 Name: automobile\n"
     ]
    },
    {
     "data": {
      "image/png": "[encoded data removed]",
      "text/plain": [
       "<matplotlib.figure.Figure at 0x7f5418b1d240>"
      ]
     },
     "metadata": {
      "image/png": {
       "height": 250,
       "width": 253
      }
     },
     "output_type": "display_data"
    }
   ],
   "source": [
    "%matplotlib inline\n",
    "%config InlineBackend.figure_format = 'retina'\n",
    "\n",
    "import helper\n",
    "import numpy as np\n",
    "\n",
    "# Explore the dataset\n",
    "batch_id = 1\n",
    "sample_id = 5\n",
    "helper.display_stats(cifar10_dataset_folder_path, batch_id, sample_id)"
   ]
  },
  {
   "cell_type": "markdown",
   "metadata": {},
   "source": [
    "## Implement Preprocess Functions\n",
    "### Normalize\n",
    "In the cell below, implement the `normalize` function to take in image data, `x`, and return it as a normalized Numpy array. The values should be in the range of 0 to 1, inclusive.  The return object should be the same shape as `x`."
   ]
  },
  {
   "cell_type": "code",
   "execution_count": 3,
   "metadata": {},
   "outputs": [
    {
     "name": "stdout",
     "output_type": "stream",
     "text": [
      "Tests Passed\n"
     ]
    }
   ],
   "source": [
    "def normalize(x):\n",
    "    \"\"\"\n",
    "    Normalize a list of sample image data in the range of 0 to 1\n",
    "    : x: List of image data.  The image shape is (32, 32, 3)\n",
    "    : return: Numpy array of normalize data\n",
    "    \"\"\"\n",
    "    # TODO: Implement Function\n",
    "    return (x - x.min()) / (x.max() - x.min())\n",
    "\n",
    "\n",
    "\"\"\"\n",
    "DON'T MODIFY ANYTHING IN THIS CELL THAT IS BELOW THIS LINE\n",
    "\"\"\"\n",
    "tests.test_normalize(normalize)"
   ]
  },
  {
   "cell_type": "markdown",
   "metadata": {},
   "source": [
    "### One-hot encode\n",
    "Just like the previous code cell, you'll be implementing a function for preprocessing.  This time, you'll implement the `one_hot_encode` function. The input, `x`, are a list of labels.  Implement the function to return the list of labels as One-Hot encoded Numpy array.  The possible values for labels are 0 to 9. The one-hot encoding function should return the same encoding for each value between each call to `one_hot_encode`.  Make sure to save the map of encodings outside the function.\n",
    "\n",
    "Hint: Don't reinvent the wheel."
   ]
  },
  {
   "cell_type": "code",
   "execution_count": 4,
   "metadata": {},
   "outputs": [
    {
     "name": "stdout",
     "output_type": "stream",
     "text": [
      "Tests Passed\n"
     ]
    }
   ],
   "source": [
    "import numpy as np\n",
    "\n",
    "def one_hot_encode(x):\n",
    "    \"\"\"\n",
    "    One hot encode a list of sample labels. Return a one-hot encoded vector for each label.\n",
    "    : x: List of sample Labels\n",
    "    : return: Numpy array of one-hot encoded labels\n",
    "    \"\"\"\n",
    "    # TODO: Implement Function\n",
    "    x_encode = np.zeros((len(x), 10))\n",
    "    for i in range(len(x)):\n",
    "        x_encode[i, x[i]] = 1\n",
    "    return x_encode\n",
    "\n",
    "\n",
    "\"\"\"\n",
    "DON'T MODIFY ANYTHING IN THIS CELL THAT IS BELOW THIS LINE\n",
    "\"\"\"\n",
    "tests.test_one_hot_encode(one_hot_encode)"
   ]
  },
  {
   "cell_type": "markdown",
   "metadata": {},
   "source": [
    "### Randomize Data\n",
    "As you saw from exploring the data above, the order of the samples are randomized.  It doesn't hurt to randomize it again, but you don't need to for this dataset."
   ]
  },
  {
   "cell_type": "markdown",
   "metadata": {},
   "source": [
    "## Preprocess all the data and save it\n",
    "Running the code cell below will preprocess all the CIFAR-10 data and save it to file. The code below also uses 10% of the training data for validation."
   ]
  },
  {
   "cell_type": "code",
   "execution_count": 8,
   "metadata": {},
   "outputs": [],
   "source": [
    "\"\"\"\n",
    "DON'T MODIFY ANYTHING IN THIS CELL\n",
    "\"\"\"\n",
    "# Preprocess Training, Validation, and Testing Data\n",
    "helper.preprocess_and_save_data(cifar10_dataset_folder_path, normalize, one_hot_encode)"
   ]
  },
  {
   "cell_type": "markdown",
   "metadata": {},
   "source": [
    "# Check Point\n",
    "This is your first checkpoint.  If you ever decide to come back to this notebook or have to restart the notebook, you can start from here.  The preprocessed data has been saved to disk."
   ]
  },
  {
   "cell_type": "code",
   "execution_count": 5,
   "metadata": {
    "collapsed": true
   },
   "outputs": [],
   "source": [
    "\"\"\"\n",
    "DON'T MODIFY ANYTHING IN THIS CELL\n",
    "\"\"\"\n",
    "import pickle\n",
    "import problem_unittests as tests\n",
    "import helper\n",
    "\n",
    "# Load the Preprocessed Validation data\n",
    "valid_features, valid_labels = pickle.load(open('preprocess_validation.p', mode='rb'))"
   ]
  },
  {
   "cell_type": "code",
   "execution_count": 6,
   "metadata": {},
   "outputs": [
    {
     "name": "stdout",
     "output_type": "stream",
     "text": [
      "(5000, 32, 32, 3)\n"
     ]
    }
   ],
   "source": [
    "print(valid_features.shape)"
   ]
  },
  {
   "cell_type": "code",
   "execution_count": 7,
   "metadata": {},
   "outputs": [
    {
     "name": "stdout",
     "output_type": "stream",
     "text": [
      "(5000, 10)\n"
     ]
    }
   ],
   "source": [
    "print(valid_labels.shape)"
   ]
  },
  {
   "cell_type": "markdown",
   "metadata": {},
   "source": [
    "## Build the network\n",
    "For the neural network, you'll build each layer into a function.  Most of the code you've seen has been outside of functions. To test your code more thoroughly, we require that you put each layer in a function.  This allows us to give you better feedback and test for simple mistakes using our unittests before you submit your project.\n",
    "\n",
    ">**Note:** If you're finding it hard to dedicate enough time for this course each week, we've provided a small shortcut to this part of the project. In the next couple of problems, you'll have the option to use classes from the [TensorFlow Layers](https://www.tensorflow.org/api_docs/python/tf/layers) or [TensorFlow Layers (contrib)](https://www.tensorflow.org/api_guides/python/contrib.layers) packages to build each layer, except the layers you build in the \"Convolutional and Max Pooling Layer\" section.  TF Layers is similar to Keras's and TFLearn's abstraction to layers, so it's easy to pickup.\n",
    "\n",
    ">However, if you would like to get the most out of this course, try to solve all the problems _without_ using anything from the TF Layers packages. You **can** still use classes from other packages that happen to have the same name as ones you find in TF Layers! For example, instead of using the TF Layers version of the `conv2d` class, [tf.layers.conv2d](https://www.tensorflow.org/api_docs/python/tf/layers/conv2d), you would want to use the TF Neural Network version of `conv2d`, [tf.nn.conv2d](https://www.tensorflow.org/api_docs/python/tf/nn/conv2d). \n",
    "\n",
    "Let's begin!\n",
    "\n",
    "### Input\n",
    "The neural network needs to read the image data, one-hot encoded labels, and dropout keep probability. Implement the following functions\n",
    "* Implement `neural_net_image_input`\n",
    " * Return a [TF Placeholder](https://www.tensorflow.org/api_docs/python/tf/placeholder)\n",
    " * Set the shape using `image_shape` with batch size set to `None`.\n",
    " * Name the TensorFlow placeholder \"x\" using the TensorFlow `name` parameter in the [TF Placeholder](https://www.tensorflow.org/api_docs/python/tf/placeholder).\n",
    "* Implement `neural_net_label_input`\n",
    " * Return a [TF Placeholder](https://www.tensorflow.org/api_docs/python/tf/placeholder)\n",
    " * Set the shape using `n_classes` with batch size set to `None`.\n",
    " * Name the TensorFlow placeholder \"y\" using the TensorFlow `name` parameter in the [TF Placeholder](https://www.tensorflow.org/api_docs/python/tf/placeholder).\n",
    "* Implement `neural_net_keep_prob_input`\n",
    " * Return a [TF Placeholder](https://www.tensorflow.org/api_docs/python/tf/placeholder) for dropout keep probability.\n",
    " * Name the TensorFlow placeholder \"keep_prob\" using the TensorFlow `name` parameter in the [TF Placeholder](https://www.tensorflow.org/api_docs/python/tf/placeholder).\n",
    "\n",
    "These names will be used at the end of the project to load your saved model.\n",
    "\n",
    "Note: `None` for shapes in TensorFlow allow for a dynamic size."
   ]
  },
  {
   "cell_type": "code",
   "execution_count": 8,
   "metadata": {},
   "outputs": [
    {
     "name": "stdout",
     "output_type": "stream",
     "text": [
      "Image Input Tests Passed.\n",
      "Label Input Tests Passed.\n",
      "Keep Prob Tests Passed.\n"
     ]
    }
   ],
   "source": [
    "import tensorflow as tf\n",
    "\n",
    "def neural_net_image_input(image_shape):\n",
    "    \"\"\"\n",
    "    Return a Tensor for a bach of image input\n",
    "    : image_shape: Shape of the images\n",
    "    : return: Tensor for image input.\n",
    "    \"\"\"\n",
    "    # TODO: Implement Function\n",
    "    shape = (None, *image_shape)\n",
    "    return tf.placeholder(tf.float32, shape = shape, name = 'x')\n",
    "\n",
    "\n",
    "def neural_net_label_input(n_classes):\n",
    "    \"\"\"\n",
    "    Return a Tensor for a batch of label input\n",
    "    : n_classes: Number of classes\n",
    "    : return: Tensor for label input.\n",
    "    \"\"\"\n",
    "    # TODO: Implement Function\n",
    "    shape = [None, n_classes]\n",
    "    return tf.placeholder(tf.float32, shape, name = 'y')\n",
    "\n",
    "\n",
    "def neural_net_keep_prob_input():\n",
    "    \"\"\"\n",
    "    Return a Tensor for keep probability\n",
    "    : return: Tensor for keep probability.\n",
    "    \"\"\"\n",
    "    # TODO: Implement Function\n",
    "    return tf.placeholder(tf.float32, None, name = 'keep_prob')\n",
    "\n",
    "\n",
    "\"\"\"\n",
    "DON'T MODIFY ANYTHING IN THIS CELL THAT IS BELOW THIS LINE\n",
    "\"\"\"\n",
    "tf.reset_default_graph()\n",
    "tests.test_nn_image_inputs(neural_net_image_input)\n",
    "tests.test_nn_label_inputs(neural_net_label_input)\n",
    "tests.test_nn_keep_prob_inputs(neural_net_keep_prob_input)"
   ]
  },
  {
   "cell_type": "markdown",
   "metadata": {},
   "source": [
    "### Convolution and Max Pooling Layer\n",
    "Convolution layers have a lot of success with images. For this code cell, you should implement the function `conv2d_maxpool` to apply convolution then max pooling:\n",
    "* Create the weight and bias using `conv_ksize`, `conv_num_outputs` and the shape of `x_tensor`.\n",
    "* Apply a convolution to `x_tensor` using weight and `conv_strides`.\n",
    " * We recommend you use same padding, but you're welcome to use any padding.\n",
    "* Add bias\n",
    "* Add a nonlinear activation to the convolution.\n",
    "* Apply Max Pooling using `pool_ksize` and `pool_strides`.\n",
    " * We recommend you use same padding, but you're welcome to use any padding.\n",
    "\n",
    "**Note:** You **can't** use [TensorFlow Layers](https://www.tensorflow.org/api_docs/python/tf/layers) or [TensorFlow Layers (contrib)](https://www.tensorflow.org/api_guides/python/contrib.layers) for **this** layer, but you can still use TensorFlow's [Neural Network](https://www.tensorflow.org/api_docs/python/tf/nn) package. You may still use the shortcut option for all the **other** layers."
   ]
  },
  {
   "cell_type": "code",
   "execution_count": 9,
   "metadata": {},
   "outputs": [
    {
     "name": "stdout",
     "output_type": "stream",
     "text": [
      "input shae: [None, 32, 32, 5]\n",
      "size: (2, 2, 5, 10)\n",
      "strides: (4, 4)\n",
      "Tests Passed\n"
     ]
    }
   ],
   "source": [
    "from math import sqrt\n",
    "def conv2d_maxpool(x_tensor, conv_num_outputs, conv_ksize, conv_strides, pool_ksize, pool_strides):\n",
    "    \"\"\"\n",
    "    Apply convolution then max pooling to x_tensor\n",
    "    :param x_tensor: TensorFlow Tensor\n",
    "    :param conv_num_outputs: Number of outputs for the convolutional layer\n",
    "    :param conv_ksize: kernal size 2-D Tuple for the convolutional layer\n",
    "    :param conv_strides: Stride 2-D Tuple for convolution\n",
    "    :param pool_ksize: kernal size 2-D Tuple for pool\n",
    "    :param pool_strides: Stride 2-D Tuple for pool\n",
    "    : return: A tensor that represents convolution and max pooling of x_tensor\n",
    "    \"\"\"\n",
    "    # TODO: Implement Function\n",
    "    # convolutional layer\n",
    "    input_shape = x_tensor.get_shape().as_list()\n",
    "    print(\"input shae:\", input_shape)\n",
    "    size = (conv_ksize[0], conv_ksize[1], input_shape[3], conv_num_outputs)\n",
    "    print(\"size:\", size)\n",
    "    weight = tf.Variable(tf.truncated_normal(size, 0, (1 / sqrt(input_shape[1] * input_shape[2] * input_shape[3]) )))\n",
    "    bias = tf.Variable(tf.zeros(conv_num_outputs))\n",
    "    print(\"strides:\", conv_strides)\n",
    "    conv_layer = tf.nn.conv2d(x_tensor, weight, strides = [1, conv_strides[0], conv_strides[1], 1], padding = 'SAME')\n",
    "    conv_layer = tf.nn.bias_add(conv_layer, bias)\n",
    "    conv_layer = tf.nn.relu(conv_layer)\n",
    "    \n",
    "    # max pooling layer\n",
    "    maxpool_layer = tf.nn.max_pool(\n",
    "        conv_layer, \n",
    "        ksize = [1, pool_ksize[0], pool_ksize[1], 1],\n",
    "        strides = [1, pool_strides[0], pool_strides[1], 1],\n",
    "        padding = 'SAME')\n",
    "    return maxpool_layer \n",
    "\n",
    "\n",
    "\"\"\"\n",
    "DON'T MODIFY ANYTHING IN THIS CELL THAT IS BELOW THIS LINE\n",
    "\"\"\"\n",
    "tests.test_con_pool(conv2d_maxpool)"
   ]
  },
  {
   "cell_type": "markdown",
   "metadata": {},
   "source": [
    "### Flatten Layer\n",
    "Implement the `flatten` function to change the dimension of `x_tensor` from a 4-D tensor to a 2-D tensor.  The output should be the shape (*Batch Size*, *Flattened Image Size*). Shortcut option: you can use classes from the [TensorFlow Layers](https://www.tensorflow.org/api_docs/python/tf/layers) or [TensorFlow Layers (contrib)](https://www.tensorflow.org/api_guides/python/contrib.layers) packages for this layer. For more of a challenge, only use other TensorFlow packages."
   ]
  },
  {
   "cell_type": "code",
   "execution_count": 10,
   "metadata": {},
   "outputs": [
    {
     "name": "stdout",
     "output_type": "stream",
     "text": [
      "Tests Passed\n"
     ]
    }
   ],
   "source": [
    "def flatten(x_tensor):\n",
    "    \"\"\"\n",
    "    Flatten x_tensor to (Batch Size, Flattened Image Size)\n",
    "    : x_tensor: A tensor of size (Batch Size, ...), where ... are the image dimensions.\n",
    "    : return: A tensor of size (Batch Size, Flattened Image Size).\n",
    "    \"\"\"\n",
    "    # TODO: Implement Function\n",
    "#     input_shape = x_tensor.get_shape().as_list()\n",
    "#     new_shape = (input_shape[0], input_shape[1] * input_shape[2] * input_shape[3])\n",
    "#     x_tensor = tf.reshape(x_tensor, new_shape)\n",
    "    \n",
    "    x_tensor = tf.contrib.layers.flatten(x_tensor)\n",
    "    return x_tensor\n",
    "\n",
    "\n",
    "\"\"\"\n",
    "DON'T MODIFY ANYTHING IN THIS CELL THAT IS BELOW THIS LINE\n",
    "\"\"\"\n",
    "tests.test_flatten(flatten)"
   ]
  },
  {
   "cell_type": "markdown",
   "metadata": {},
   "source": [
    "### Fully-Connected Layer\n",
    "Implement the `fully_conn` function to apply a fully connected layer to `x_tensor` with the shape (*Batch Size*, *num_outputs*). Shortcut option: you can use classes from the [TensorFlow Layers](https://www.tensorflow.org/api_docs/python/tf/layers) or [TensorFlow Layers (contrib)](https://www.tensorflow.org/api_guides/python/contrib.layers) packages for this layer. For more of a challenge, only use other TensorFlow packages."
   ]
  },
  {
   "cell_type": "code",
   "execution_count": 11,
   "metadata": {},
   "outputs": [
    {
     "name": "stdout",
     "output_type": "stream",
     "text": [
      "Tests Passed\n"
     ]
    }
   ],
   "source": [
    "def fully_conn(x_tensor, num_outputs):\n",
    "    \"\"\"\n",
    "    Apply a fully connected layer to x_tensor using weight and bias\n",
    "    : x_tensor: A 2-D tensor where the first dimension is batch size.\n",
    "    : num_outputs: The number of output that the new tensor should be.\n",
    "    : return: A 2-D tensor where the second dimension is num_outputs.\n",
    "    \"\"\"\n",
    "    # TODO: Implement Function\n",
    "    input_shape = x_tensor.get_shape().as_list()\n",
    "    weights = tf.Variable(tf.truncated_normal((input_shape[1], num_outputs), 0, 0.01))\n",
    "    bias = tf.Variable(tf.zeros(num_outputs))\n",
    "    x_tensor = tf.add(tf.matmul(x_tensor, weights), bias)\n",
    "    x_tensor = tf.nn.relu(x_tensor)\n",
    "#    x_tensor = tf.contrib.layers.fully_connected(x_tensor, num_outputs)\n",
    "    return x_tensor\n",
    "\n",
    "\n",
    "\"\"\"\n",
    "DON'T MODIFY ANYTHING IN THIS CELL THAT IS BELOW THIS LINE\n",
    "\"\"\"\n",
    "tests.test_fully_conn(fully_conn)"
   ]
  },
  {
   "cell_type": "markdown",
   "metadata": {},
   "source": [
    "### Output Layer\n",
    "Implement the `output` function to apply a fully connected layer to `x_tensor` with the shape (*Batch Size*, *num_outputs*). Shortcut option: you can use classes from the [TensorFlow Layers](https://www.tensorflow.org/api_docs/python/tf/layers) or [TensorFlow Layers (contrib)](https://www.tensorflow.org/api_guides/python/contrib.layers) packages for this layer. For more of a challenge, only use other TensorFlow packages.\n",
    "\n",
    "**Note:** Activation, softmax, or cross entropy should **not** be applied to this."
   ]
  },
  {
   "cell_type": "code",
   "execution_count": 12,
   "metadata": {},
   "outputs": [
    {
     "name": "stdout",
     "output_type": "stream",
     "text": [
      "Tests Passed\n"
     ]
    }
   ],
   "source": [
    "def output(x_tensor, num_outputs):\n",
    "    \"\"\"\n",
    "    Apply a output layer to x_tensor using weight and bias\n",
    "    : x_tensor: A 2-D tensor where the first dimension is batch size.\n",
    "    : num_outputs: The number of output that the new tensor should be.\n",
    "    : return: A 2-D tensor where the second dimension is num_outputs.\n",
    "    \"\"\"\n",
    "    # TODO: Implement Function\n",
    "    input_shape = x_tensor.get_shape().as_list()\n",
    "    weights = tf.Variable(tf.truncated_normal((input_shape[1], num_outputs), 0, 0.01))\n",
    "    bias = tf.Variable(tf.zeros(num_outputs))\n",
    "    x_tensor = tf.add(tf.matmul(x_tensor, weights), bias)\n",
    "    x_tensor = tf.nn.relu(x_tensor)\n",
    "    # x_tensor = tf.contrib.layers.fully_connected(x_tensor, num_outputs)\n",
    "    return x_tensor\n",
    "\n",
    "\n",
    "\"\"\"\n",
    "DON'T MODIFY ANYTHING IN THIS CELL THAT IS BELOW THIS LINE\n",
    "\"\"\"\n",
    "tests.test_output(output)"
   ]
  },
  {
   "cell_type": "markdown",
   "metadata": {},
   "source": [
    "### Create Convolutional Model\n",
    "Implement the function `conv_net` to create a convolutional neural network model. The function takes in a batch of images, `x`, and outputs logits.  Use the layers you created above to create this model:\n",
    "\n",
    "* Apply 1, 2, or 3 Convolution and Max Pool layers\n",
    "* Apply a Flatten Layer\n",
    "* Apply 1, 2, or 3 Fully Connected Layers\n",
    "* Apply an Output Layer\n",
    "* Return the output\n",
    "* Apply [TensorFlow's Dropout](https://www.tensorflow.org/api_docs/python/tf/nn/dropout) to one or more layers in the model using `keep_prob`. "
   ]
  },
  {
   "cell_type": "code",
   "execution_count": 13,
   "metadata": {},
   "outputs": [
    {
     "name": "stdout",
     "output_type": "stream",
     "text": [
      "input shae: [None, 32, 32, 3]\n",
      "size: (4, 4, 3, 64)\n",
      "strides: (2, 2)\n",
      "input shae: [None, 32, 32, 3]\n",
      "size: (4, 4, 3, 64)\n",
      "strides: (2, 2)\n",
      "Neural Network Built!\n"
     ]
    }
   ],
   "source": [
    "def conv_net(x, keep_prob):\n",
    "    \"\"\"\n",
    "    Create a convolutional neural network model\n",
    "    : x: Placeholder tensor that holds image data.\n",
    "    : keep_prob: Placeholder tensor that hold dropout keep probability.\n",
    "    : return: Tensor that represents logits\n",
    "    \"\"\"\n",
    "    \n",
    "    conv_num_outputs = 64\n",
    "    conv_ksize = (4, 4)\n",
    "    conv_strides = (2, 2)\n",
    "    pool_ksize = (4, 4)\n",
    "    pool_strides = (1, 1)\n",
    "    num_outputs = 10\n",
    "    fully_num_outputs = 64\n",
    "    \n",
    "    # TODO: Apply 1, 2, or 3 Convolution and Max Pool layers\n",
    "    #    Play around with different number of outputs, kernel size and stride\n",
    "    # Function Definition from Above:\n",
    "    #    conv2d_maxpool(x_tensor, conv_num_outputs, conv_ksize, conv_strides, pool_ksize, pool_strides)\n",
    "    x_tensor = conv2d_maxpool(x, conv_num_outputs, conv_ksize, conv_strides, pool_ksize, pool_strides)\n",
    "\n",
    "    # TODO: Apply a Flatten Layer\n",
    "    # Function Definition from Above:\n",
    "    #   flatten(x_tensor)\n",
    "    x_tensor = flatten(x_tensor)\n",
    "\n",
    "    # TODO: Apply 1, 2, or 3 Fully Connected Layers\n",
    "    #    Play around with different number of outputs\n",
    "    # Function Definition from Above:\n",
    "    #   fully_conn(x_tensor, num_outputs)\n",
    "    x_tensor = fully_conn(x_tensor, fully_num_outputs)\n",
    "    x_tensor = tf.nn.dropout(x_tensor, keep_prob)\n",
    "    \n",
    "    # TODO: Apply an Output Layer\n",
    "    #    Set this to the number of classes\n",
    "    # Function Definition from Above:\n",
    "    #   output(x_tensor, num_outputs)\n",
    "    x_tensor = output(x_tensor, num_outputs)\n",
    "    \n",
    "    # TODO: return output\n",
    "    return x_tensor\n",
    "\n",
    "\n",
    "\"\"\"\n",
    "DON'T MODIFY ANYTHING IN THIS CELL THAT IS BELOW THIS LINE\n",
    "\"\"\"\n",
    "\n",
    "##############################\n",
    "## Build the Neural Network ##\n",
    "##############################\n",
    "\n",
    "# Remove previous weights, bias, inputs, etc..\n",
    "tf.reset_default_graph()\n",
    "\n",
    "# Inputs\n",
    "x = neural_net_image_input((32, 32, 3))\n",
    "y = neural_net_label_input(10)\n",
    "keep_prob = neural_net_keep_prob_input()\n",
    "\n",
    "# Model\n",
    "logits = conv_net(x, keep_prob)\n",
    "\n",
    "# Name logits Tensor, so that is can be loaded from disk after training\n",
    "logits = tf.identity(logits, name='logits')\n",
    "\n",
    "# Loss and Optimizer\n",
    "cost = tf.reduce_mean(tf.nn.softmax_cross_entropy_with_logits(logits=logits, labels=y))\n",
    "optimizer = tf.train.AdamOptimizer().minimize(cost)\n",
    "\n",
    "# Accuracy\n",
    "correct_pred = tf.equal(tf.argmax(logits, 1), tf.argmax(y, 1))\n",
    "accuracy = tf.reduce_mean(tf.cast(correct_pred, tf.float32), name='accuracy')\n",
    "\n",
    "tests.test_conv_net(conv_net)"
   ]
  },
  {
   "cell_type": "markdown",
   "metadata": {},
   "source": [
    "## Train the Neural Network\n",
    "### Single Optimization\n",
    "Implement the function `train_neural_network` to do a single optimization.  The optimization should use `optimizer` to optimize in `session` with a `feed_dict` of the following:\n",
    "* `x` for image input\n",
    "* `y` for labels\n",
    "* `keep_prob` for keep probability for dropout\n",
    "\n",
    "This function will be called for each batch, so `tf.global_variables_initializer()` has already been called.\n",
    "\n",
    "Note: Nothing needs to be returned. This function is only optimizing the neural network."
   ]
  },
  {
   "cell_type": "code",
   "execution_count": 14,
   "metadata": {},
   "outputs": [
    {
     "name": "stdout",
     "output_type": "stream",
     "text": [
      "Tests Passed\n"
     ]
    }
   ],
   "source": [
    "def train_neural_network(session, optimizer, keep_probability, feature_batch, label_batch):\n",
    "    \"\"\"\n",
    "    Optimize the session on a batch of images and labels\n",
    "    : session: Current TensorFlow session\n",
    "    : optimizer: TensorFlow optimizer function\n",
    "    : keep_probability: keep probability\n",
    "    : feature_batch: Batch of Numpy image data\n",
    "    : label_batch: Batch of Numpy label data\n",
    "    \"\"\"\n",
    "    # TODO: Implement Function\n",
    "    session.run(optimizer, \n",
    "               feed_dict = {x : feature_batch, \n",
    "                            y : label_batch,\n",
    "                            keep_prob : keep_probability\n",
    "                           })\n",
    "\n",
    "\n",
    "\"\"\"\n",
    "DON'T MODIFY ANYTHING IN THIS CELL THAT IS BELOW THIS LINE\n",
    "\"\"\"\n",
    "tests.test_train_nn(train_neural_network)"
   ]
  },
  {
   "cell_type": "markdown",
   "metadata": {},
   "source": [
    "### Show Stats\n",
    "Implement the function `print_stats` to print loss and validation accuracy.  Use the global variables `valid_features` and `valid_labels` to calculate validation accuracy.  Use a keep probability of `1.0` to calculate the loss and validation accuracy."
   ]
  },
  {
   "cell_type": "code",
   "execution_count": 15,
   "metadata": {
    "collapsed": true
   },
   "outputs": [],
   "source": [
    "def print_stats(session, feature_batch, label_batch, cost, accuracy):\n",
    "    \"\"\"\n",
    "    Print information about loss and validation accuracy\n",
    "    : session: Current TensorFlow session\n",
    "    : feature_batch: Batch of Numpy image data\n",
    "    : label_batch: Batch of Numpy label data\n",
    "    : cost: TensorFlow cost function\n",
    "    : accuracy: TensorFlow accuracy function\n",
    "    \"\"\"\n",
    "    # TODO: Implement Function\n",
    "    loss = session.run(cost, feed_dict = {\n",
    "        x : feature_batch,\n",
    "        y : label_batch,\n",
    "        keep_prob : 1.0\n",
    "    })\n",
    "    \n",
    "    valid_acc = session.run(accuracy, feed_dict = {\n",
    "        x : valid_features,\n",
    "        y : valid_labels,\n",
    "        keep_prob : 1.0\n",
    "    })\n",
    "    \n",
    "    print('Loss: {:>10.4f} Validation Accuracy: {:.6f}'.format(loss, valid_acc))"
   ]
  },
  {
   "cell_type": "markdown",
   "metadata": {},
   "source": [
    "### Hyperparameters\n",
    "Tune the following parameters:\n",
    "* Set `epochs` to the number of iterations until the network stops learning or start overfitting\n",
    "* Set `batch_size` to the highest number that your machine has memory for.  Most people set them to common sizes of memory:\n",
    " * 64\n",
    " * 128\n",
    " * 256\n",
    " * ...\n",
    "* Set `keep_probability` to the probability of keeping a node using dropout"
   ]
  },
  {
   "cell_type": "code",
   "execution_count": 19,
   "metadata": {
    "collapsed": true
   },
   "outputs": [],
   "source": [
    "# TODO: Tune Parameters\n",
    "epochs = 50\n",
    "batch_size = 1024\n",
    "keep_probability = 0.8"
   ]
  },
  {
   "cell_type": "markdown",
   "metadata": {},
   "source": [
    "### Train on a Single CIFAR-10 Batch\n",
    "Instead of training the neural network on all the CIFAR-10 batches of data, let's use a single batch. This should save time while you iterate on the model to get a better accuracy.  Once the final validation accuracy is 50% or greater, run the model on all the data in the next section."
   ]
  },
  {
   "cell_type": "code",
   "execution_count": 20,
   "metadata": {},
   "outputs": [
    {
     "name": "stdout",
     "output_type": "stream",
     "text": [
      "Checking the Training on a Single Batch...\n",
      "Epoch  1, CIFAR-10 Batch 1:  Loss:     2.2530 Validation Accuracy: 0.162000\n",
      "Epoch  2, CIFAR-10 Batch 1:  Loss:     2.1514 Validation Accuracy: 0.242400\n",
      "Epoch  3, CIFAR-10 Batch 1:  Loss:     2.0875 Validation Accuracy: 0.269800\n",
      "Epoch  4, CIFAR-10 Batch 1:  Loss:     2.0292 Validation Accuracy: 0.298000\n",
      "Epoch  5, CIFAR-10 Batch 1:  Loss:     1.9642 Validation Accuracy: 0.310200\n",
      "Epoch  6, CIFAR-10 Batch 1:  Loss:     1.9123 Validation Accuracy: 0.345400\n",
      "Epoch  7, CIFAR-10 Batch 1:  Loss:     1.8719 Validation Accuracy: 0.356200\n",
      "Epoch  8, CIFAR-10 Batch 1:  Loss:     1.8414 Validation Accuracy: 0.371400\n",
      "Epoch  9, CIFAR-10 Batch 1:  Loss:     1.8133 Validation Accuracy: 0.382000\n",
      "Epoch 10, CIFAR-10 Batch 1:  Loss:     1.7912 Validation Accuracy: 0.389000\n",
      "Epoch 11, CIFAR-10 Batch 1:  Loss:     1.7733 Validation Accuracy: 0.389000\n",
      "Epoch 12, CIFAR-10 Batch 1:  Loss:     1.7444 Validation Accuracy: 0.400600\n",
      "Epoch 13, CIFAR-10 Batch 1:  Loss:     1.7268 Validation Accuracy: 0.409000\n",
      "Epoch 14, CIFAR-10 Batch 1:  Loss:     1.7053 Validation Accuracy: 0.413600\n",
      "Epoch 15, CIFAR-10 Batch 1:  Loss:     1.6825 Validation Accuracy: 0.421800\n",
      "Epoch 16, CIFAR-10 Batch 1:  Loss:     1.6760 Validation Accuracy: 0.422800\n",
      "Epoch 17, CIFAR-10 Batch 1:  Loss:     1.6643 Validation Accuracy: 0.427600\n",
      "Epoch 18, CIFAR-10 Batch 1:  Loss:     1.6360 Validation Accuracy: 0.439200\n",
      "Epoch 19, CIFAR-10 Batch 1:  Loss:     1.6253 Validation Accuracy: 0.439000\n",
      "Epoch 20, CIFAR-10 Batch 1:  Loss:     1.6088 Validation Accuracy: 0.445000\n",
      "Epoch 21, CIFAR-10 Batch 1:  Loss:     1.5970 Validation Accuracy: 0.445800\n",
      "Epoch 22, CIFAR-10 Batch 1:  Loss:     1.5833 Validation Accuracy: 0.450800\n",
      "Epoch 23, CIFAR-10 Batch 1:  Loss:     1.5594 Validation Accuracy: 0.455400\n",
      "Epoch 24, CIFAR-10 Batch 1:  Loss:     1.5432 Validation Accuracy: 0.462200\n",
      "Epoch 25, CIFAR-10 Batch 1:  Loss:     1.5384 Validation Accuracy: 0.462200\n",
      "Epoch 26, CIFAR-10 Batch 1:  Loss:     1.5309 Validation Accuracy: 0.467200\n",
      "Epoch 27, CIFAR-10 Batch 1:  Loss:     1.5090 Validation Accuracy: 0.472600\n",
      "Epoch 28, CIFAR-10 Batch 1:  Loss:     1.5052 Validation Accuracy: 0.471400\n",
      "Epoch 29, CIFAR-10 Batch 1:  Loss:     1.4932 Validation Accuracy: 0.474600\n",
      "Epoch 30, CIFAR-10 Batch 1:  Loss:     1.4855 Validation Accuracy: 0.475000\n",
      "Epoch 31, CIFAR-10 Batch 1:  Loss:     1.4717 Validation Accuracy: 0.483600\n",
      "Epoch 32, CIFAR-10 Batch 1:  Loss:     1.4593 Validation Accuracy: 0.481200\n",
      "Epoch 33, CIFAR-10 Batch 1:  Loss:     1.4511 Validation Accuracy: 0.484400\n",
      "Epoch 34, CIFAR-10 Batch 1:  Loss:     1.4379 Validation Accuracy: 0.485400\n",
      "Epoch 35, CIFAR-10 Batch 1:  Loss:     1.4336 Validation Accuracy: 0.489400\n",
      "Epoch 36, CIFAR-10 Batch 1:  Loss:     1.4209 Validation Accuracy: 0.491000\n",
      "Epoch 37, CIFAR-10 Batch 1:  Loss:     1.4089 Validation Accuracy: 0.493000\n",
      "Epoch 38, CIFAR-10 Batch 1:  Loss:     1.4020 Validation Accuracy: 0.490200\n",
      "Epoch 39, CIFAR-10 Batch 1:  Loss:     1.3920 Validation Accuracy: 0.495400\n",
      "Epoch 40, CIFAR-10 Batch 1:  Loss:     1.3756 Validation Accuracy: 0.498200\n",
      "Epoch 41, CIFAR-10 Batch 1:  Loss:     1.3743 Validation Accuracy: 0.497600\n",
      "Epoch 42, CIFAR-10 Batch 1:  Loss:     1.3782 Validation Accuracy: 0.496600\n",
      "Epoch 43, CIFAR-10 Batch 1:  Loss:     1.3539 Validation Accuracy: 0.501000\n",
      "Epoch 44, CIFAR-10 Batch 1:  Loss:     1.3460 Validation Accuracy: 0.503200\n",
      "Epoch 45, CIFAR-10 Batch 1:  Loss:     1.3332 Validation Accuracy: 0.505000\n",
      "Epoch 46, CIFAR-10 Batch 1:  Loss:     1.3296 Validation Accuracy: 0.506400\n",
      "Epoch 47, CIFAR-10 Batch 1:  Loss:     1.3187 Validation Accuracy: 0.510600\n",
      "Epoch 48, CIFAR-10 Batch 1:  Loss:     1.3170 Validation Accuracy: 0.506200\n",
      "Epoch 49, CIFAR-10 Batch 1:  Loss:     1.2967 Validation Accuracy: 0.508000\n",
      "Epoch 50, CIFAR-10 Batch 1:  Loss:     1.2971 Validation Accuracy: 0.512600\n"
     ]
    }
   ],
   "source": [
    "\"\"\"\n",
    "DON'T MODIFY ANYTHING IN THIS CELL\n",
    "\"\"\"\n",
    "print('Checking the Training on a Single Batch...')\n",
    "with tf.Session() as sess:\n",
    "    # Initializing the variables\n",
    "    sess.run(tf.global_variables_initializer())\n",
    "    \n",
    "    # Training cycle\n",
    "    for epoch in range(epochs):\n",
    "        batch_i = 1\n",
    "        for batch_features, batch_labels in helper.load_preprocess_training_batch(batch_i, batch_size):\n",
    "            train_neural_network(sess, optimizer, keep_probability, batch_features, batch_labels)\n",
    "        print('Epoch {:>2}, CIFAR-10 Batch {}:  '.format(epoch + 1, batch_i), end='')\n",
    "        print_stats(sess, batch_features, batch_labels, cost, accuracy)"
   ]
  },
  {
   "cell_type": "markdown",
   "metadata": {},
   "source": [
    "### Fully Train the Model\n",
    "Now that you got a good accuracy with a single CIFAR-10 batch, try it with all five batches."
   ]
  },
  {
   "cell_type": "code",
   "execution_count": 21,
   "metadata": {},
   "outputs": [
    {
     "name": "stdout",
     "output_type": "stream",
     "text": [
      "Training...\n",
      "Epoch  1, CIFAR-10 Batch 1:  Loss:     2.2516 Validation Accuracy: 0.219800\n",
      "Epoch  1, CIFAR-10 Batch 2:  Loss:     2.1204 Validation Accuracy: 0.258400\n",
      "Epoch  1, CIFAR-10 Batch 3:  Loss:     2.0306 Validation Accuracy: 0.268000\n",
      "Epoch  1, CIFAR-10 Batch 4:  Loss:     1.9465 Validation Accuracy: 0.298200\n",
      "Epoch  1, CIFAR-10 Batch 5:  Loss:     1.9238 Validation Accuracy: 0.343400\n",
      "Epoch  2, CIFAR-10 Batch 1:  Loss:     1.8895 Validation Accuracy: 0.336000\n",
      "Epoch  2, CIFAR-10 Batch 2:  Loss:     1.8652 Validation Accuracy: 0.369000\n",
      "Epoch  2, CIFAR-10 Batch 3:  Loss:     1.8020 Validation Accuracy: 0.385400\n",
      "Epoch  2, CIFAR-10 Batch 4:  Loss:     1.7621 Validation Accuracy: 0.388800\n",
      "Epoch  2, CIFAR-10 Batch 5:  Loss:     1.7603 Validation Accuracy: 0.411800\n",
      "Epoch  3, CIFAR-10 Batch 1:  Loss:     1.7223 Validation Accuracy: 0.411200\n",
      "Epoch  3, CIFAR-10 Batch 2:  Loss:     1.7298 Validation Accuracy: 0.420000\n",
      "Epoch  3, CIFAR-10 Batch 3:  Loss:     1.6713 Validation Accuracy: 0.435200\n",
      "Epoch  3, CIFAR-10 Batch 4:  Loss:     1.6459 Validation Accuracy: 0.428400\n",
      "Epoch  3, CIFAR-10 Batch 5:  Loss:     1.6532 Validation Accuracy: 0.455800\n",
      "Epoch  4, CIFAR-10 Batch 1:  Loss:     1.6182 Validation Accuracy: 0.451200\n",
      "Epoch  4, CIFAR-10 Batch 2:  Loss:     1.6311 Validation Accuracy: 0.458400\n",
      "Epoch  4, CIFAR-10 Batch 3:  Loss:     1.5814 Validation Accuracy: 0.465000\n",
      "Epoch  4, CIFAR-10 Batch 4:  Loss:     1.5566 Validation Accuracy: 0.463400\n",
      "Epoch  4, CIFAR-10 Batch 5:  Loss:     1.5663 Validation Accuracy: 0.481800\n",
      "Epoch  5, CIFAR-10 Batch 1:  Loss:     1.5508 Validation Accuracy: 0.483000\n",
      "Epoch  5, CIFAR-10 Batch 2:  Loss:     1.5570 Validation Accuracy: 0.487000\n",
      "Epoch  5, CIFAR-10 Batch 3:  Loss:     1.5333 Validation Accuracy: 0.488000\n",
      "Epoch  5, CIFAR-10 Batch 4:  Loss:     1.4989 Validation Accuracy: 0.479800\n",
      "Epoch  5, CIFAR-10 Batch 5:  Loss:     1.5043 Validation Accuracy: 0.500800\n",
      "Epoch  6, CIFAR-10 Batch 1:  Loss:     1.4952 Validation Accuracy: 0.505600\n",
      "Epoch  6, CIFAR-10 Batch 2:  Loss:     1.4974 Validation Accuracy: 0.503800\n",
      "Epoch  6, CIFAR-10 Batch 3:  Loss:     1.4780 Validation Accuracy: 0.510400\n",
      "Epoch  6, CIFAR-10 Batch 4:  Loss:     1.4550 Validation Accuracy: 0.503000\n",
      "Epoch  6, CIFAR-10 Batch 5:  Loss:     1.4637 Validation Accuracy: 0.513200\n",
      "Epoch  7, CIFAR-10 Batch 1:  Loss:     1.4574 Validation Accuracy: 0.515400\n",
      "Epoch  7, CIFAR-10 Batch 2:  Loss:     1.4568 Validation Accuracy: 0.521800\n",
      "Epoch  7, CIFAR-10 Batch 3:  Loss:     1.4338 Validation Accuracy: 0.523200\n",
      "Epoch  7, CIFAR-10 Batch 4:  Loss:     1.4085 Validation Accuracy: 0.513000\n",
      "Epoch  7, CIFAR-10 Batch 5:  Loss:     1.4142 Validation Accuracy: 0.523800\n",
      "Epoch  8, CIFAR-10 Batch 1:  Loss:     1.4337 Validation Accuracy: 0.520200\n",
      "Epoch  8, CIFAR-10 Batch 2:  Loss:     1.4192 Validation Accuracy: 0.532400\n",
      "Epoch  8, CIFAR-10 Batch 3:  Loss:     1.4097 Validation Accuracy: 0.531600\n",
      "Epoch  8, CIFAR-10 Batch 4:  Loss:     1.3776 Validation Accuracy: 0.527000\n",
      "Epoch  8, CIFAR-10 Batch 5:  Loss:     1.3820 Validation Accuracy: 0.530600\n",
      "Epoch  9, CIFAR-10 Batch 1:  Loss:     1.3932 Validation Accuracy: 0.536000\n",
      "Epoch  9, CIFAR-10 Batch 2:  Loss:     1.3891 Validation Accuracy: 0.542600\n",
      "Epoch  9, CIFAR-10 Batch 3:  Loss:     1.3836 Validation Accuracy: 0.538000\n",
      "Epoch  9, CIFAR-10 Batch 4:  Loss:     1.3500 Validation Accuracy: 0.531600\n",
      "Epoch  9, CIFAR-10 Batch 5:  Loss:     1.3467 Validation Accuracy: 0.549000\n",
      "Epoch 10, CIFAR-10 Batch 1:  Loss:     1.3763 Validation Accuracy: 0.542200\n",
      "Epoch 10, CIFAR-10 Batch 2:  Loss:     1.3654 Validation Accuracy: 0.553400\n",
      "Epoch 10, CIFAR-10 Batch 3:  Loss:     1.3577 Validation Accuracy: 0.549400\n",
      "Epoch 10, CIFAR-10 Batch 4:  Loss:     1.3108 Validation Accuracy: 0.544400\n",
      "Epoch 10, CIFAR-10 Batch 5:  Loss:     1.3130 Validation Accuracy: 0.554800\n",
      "Epoch 11, CIFAR-10 Batch 1:  Loss:     1.3438 Validation Accuracy: 0.550200\n",
      "Epoch 11, CIFAR-10 Batch 2:  Loss:     1.3321 Validation Accuracy: 0.560200\n",
      "Epoch 11, CIFAR-10 Batch 3:  Loss:     1.3205 Validation Accuracy: 0.555600\n",
      "Epoch 11, CIFAR-10 Batch 4:  Loss:     1.2953 Validation Accuracy: 0.553600\n",
      "Epoch 11, CIFAR-10 Batch 5:  Loss:     1.2837 Validation Accuracy: 0.559800\n",
      "Epoch 12, CIFAR-10 Batch 1:  Loss:     1.3241 Validation Accuracy: 0.558200\n",
      "Epoch 12, CIFAR-10 Batch 2:  Loss:     1.3094 Validation Accuracy: 0.569400\n",
      "Epoch 12, CIFAR-10 Batch 3:  Loss:     1.2915 Validation Accuracy: 0.568400\n",
      "Epoch 12, CIFAR-10 Batch 4:  Loss:     1.2734 Validation Accuracy: 0.560400\n",
      "Epoch 12, CIFAR-10 Batch 5:  Loss:     1.2639 Validation Accuracy: 0.565200\n",
      "Epoch 13, CIFAR-10 Batch 1:  Loss:     1.2917 Validation Accuracy: 0.568000\n",
      "Epoch 13, CIFAR-10 Batch 2:  Loss:     1.2850 Validation Accuracy: 0.577000\n",
      "Epoch 13, CIFAR-10 Batch 3:  Loss:     1.2745 Validation Accuracy: 0.573200\n",
      "Epoch 13, CIFAR-10 Batch 4:  Loss:     1.2462 Validation Accuracy: 0.565000\n",
      "Epoch 13, CIFAR-10 Batch 5:  Loss:     1.2382 Validation Accuracy: 0.570600\n",
      "Epoch 14, CIFAR-10 Batch 1:  Loss:     1.2909 Validation Accuracy: 0.571000\n",
      "Epoch 14, CIFAR-10 Batch 2:  Loss:     1.2626 Validation Accuracy: 0.582200\n",
      "Epoch 14, CIFAR-10 Batch 3:  Loss:     1.2591 Validation Accuracy: 0.570800\n",
      "Epoch 14, CIFAR-10 Batch 4:  Loss:     1.2295 Validation Accuracy: 0.578200\n",
      "Epoch 14, CIFAR-10 Batch 5:  Loss:     1.2122 Validation Accuracy: 0.579000\n",
      "Epoch 15, CIFAR-10 Batch 1:  Loss:     1.2558 Validation Accuracy: 0.579400\n",
      "Epoch 15, CIFAR-10 Batch 2:  Loss:     1.2547 Validation Accuracy: 0.579800\n",
      "Epoch 15, CIFAR-10 Batch 3:  Loss:     1.2339 Validation Accuracy: 0.584600\n",
      "Epoch 15, CIFAR-10 Batch 4:  Loss:     1.2134 Validation Accuracy: 0.576400\n",
      "Epoch 15, CIFAR-10 Batch 5:  Loss:     1.1792 Validation Accuracy: 0.581800\n",
      "Epoch 16, CIFAR-10 Batch 1:  Loss:     1.2427 Validation Accuracy: 0.587400\n",
      "Epoch 16, CIFAR-10 Batch 2:  Loss:     1.2252 Validation Accuracy: 0.587600\n",
      "Epoch 16, CIFAR-10 Batch 3:  Loss:     1.2192 Validation Accuracy: 0.587000\n",
      "Epoch 16, CIFAR-10 Batch 4:  Loss:     1.1823 Validation Accuracy: 0.584600\n",
      "Epoch 16, CIFAR-10 Batch 5:  Loss:     1.1557 Validation Accuracy: 0.589200\n",
      "Epoch 17, CIFAR-10 Batch 1:  Loss:     1.2184 Validation Accuracy: 0.596000\n",
      "Epoch 17, CIFAR-10 Batch 2:  Loss:     1.2102 Validation Accuracy: 0.587000\n",
      "Epoch 17, CIFAR-10 Batch 3:  Loss:     1.2050 Validation Accuracy: 0.586000\n",
      "Epoch 17, CIFAR-10 Batch 4:  Loss:     1.1888 Validation Accuracy: 0.580600\n",
      "Epoch 17, CIFAR-10 Batch 5:  Loss:     1.1481 Validation Accuracy: 0.587000\n",
      "Epoch 18, CIFAR-10 Batch 1:  Loss:     1.2106 Validation Accuracy: 0.589400\n",
      "Epoch 18, CIFAR-10 Batch 2:  Loss:     1.2066 Validation Accuracy: 0.595400\n",
      "Epoch 18, CIFAR-10 Batch 3:  Loss:     1.1858 Validation Accuracy: 0.593400\n",
      "Epoch 18, CIFAR-10 Batch 4:  Loss:     1.1530 Validation Accuracy: 0.591000\n",
      "Epoch 18, CIFAR-10 Batch 5:  Loss:     1.1346 Validation Accuracy: 0.586200\n",
      "Epoch 19, CIFAR-10 Batch 1:  Loss:     1.1943 Validation Accuracy: 0.597000\n",
      "Epoch 19, CIFAR-10 Batch 2:  Loss:     1.1731 Validation Accuracy: 0.597000\n",
      "Epoch 19, CIFAR-10 Batch 3:  Loss:     1.1912 Validation Accuracy: 0.594400\n",
      "Epoch 19, CIFAR-10 Batch 4:  Loss:     1.1496 Validation Accuracy: 0.592400\n",
      "Epoch 19, CIFAR-10 Batch 5:  Loss:     1.1267 Validation Accuracy: 0.586800\n",
      "Epoch 20, CIFAR-10 Batch 1:  Loss:     1.1686 Validation Accuracy: 0.596800\n",
      "Epoch 20, CIFAR-10 Batch 2:  Loss:     1.1666 Validation Accuracy: 0.600800\n",
      "Epoch 20, CIFAR-10 Batch 3:  Loss:     1.1811 Validation Accuracy: 0.595200\n",
      "Epoch 20, CIFAR-10 Batch 4:  Loss:     1.1232 Validation Accuracy: 0.596400\n",
      "Epoch 20, CIFAR-10 Batch 5:  Loss:     1.1052 Validation Accuracy: 0.595800\n",
      "Epoch 21, CIFAR-10 Batch 1:  Loss:     1.1383 Validation Accuracy: 0.606200\n",
      "Epoch 21, CIFAR-10 Batch 2:  Loss:     1.1552 Validation Accuracy: 0.596000\n",
      "Epoch 21, CIFAR-10 Batch 3:  Loss:     1.1629 Validation Accuracy: 0.597200\n",
      "Epoch 21, CIFAR-10 Batch 4:  Loss:     1.0970 Validation Accuracy: 0.605800\n",
      "Epoch 21, CIFAR-10 Batch 5:  Loss:     1.0928 Validation Accuracy: 0.607000\n",
      "Epoch 22, CIFAR-10 Batch 1:  Loss:     1.1152 Validation Accuracy: 0.605400\n",
      "Epoch 22, CIFAR-10 Batch 2:  Loss:     1.1376 Validation Accuracy: 0.604400\n",
      "Epoch 22, CIFAR-10 Batch 3:  Loss:     1.1306 Validation Accuracy: 0.603800\n"
     ]
    },
    {
     "name": "stdout",
     "output_type": "stream",
     "text": [
      "Epoch 22, CIFAR-10 Batch 4:  Loss:     1.0983 Validation Accuracy: 0.604000\n",
      "Epoch 22, CIFAR-10 Batch 5:  Loss:     1.0652 Validation Accuracy: 0.607400\n",
      "Epoch 23, CIFAR-10 Batch 1:  Loss:     1.1246 Validation Accuracy: 0.602800\n",
      "Epoch 23, CIFAR-10 Batch 2:  Loss:     1.1364 Validation Accuracy: 0.601600\n",
      "Epoch 23, CIFAR-10 Batch 3:  Loss:     1.1274 Validation Accuracy: 0.608800\n",
      "Epoch 23, CIFAR-10 Batch 4:  Loss:     1.0867 Validation Accuracy: 0.605000\n",
      "Epoch 23, CIFAR-10 Batch 5:  Loss:     1.0585 Validation Accuracy: 0.603800\n",
      "Epoch 24, CIFAR-10 Batch 1:  Loss:     1.0960 Validation Accuracy: 0.604800\n",
      "Epoch 24, CIFAR-10 Batch 2:  Loss:     1.1168 Validation Accuracy: 0.610200\n",
      "Epoch 24, CIFAR-10 Batch 3:  Loss:     1.1134 Validation Accuracy: 0.602600\n",
      "Epoch 24, CIFAR-10 Batch 4:  Loss:     1.0835 Validation Accuracy: 0.605400\n",
      "Epoch 24, CIFAR-10 Batch 5:  Loss:     1.0496 Validation Accuracy: 0.609200\n",
      "Epoch 25, CIFAR-10 Batch 1:  Loss:     1.0846 Validation Accuracy: 0.609800\n",
      "Epoch 25, CIFAR-10 Batch 2:  Loss:     1.1072 Validation Accuracy: 0.614800\n",
      "Epoch 25, CIFAR-10 Batch 3:  Loss:     1.1254 Validation Accuracy: 0.602800\n",
      "Epoch 25, CIFAR-10 Batch 4:  Loss:     1.0551 Validation Accuracy: 0.613400\n",
      "Epoch 25, CIFAR-10 Batch 5:  Loss:     1.0406 Validation Accuracy: 0.610600\n",
      "Epoch 26, CIFAR-10 Batch 1:  Loss:     1.0769 Validation Accuracy: 0.607200\n",
      "Epoch 26, CIFAR-10 Batch 2:  Loss:     1.0891 Validation Accuracy: 0.612800\n",
      "Epoch 26, CIFAR-10 Batch 3:  Loss:     1.1090 Validation Accuracy: 0.607400\n",
      "Epoch 26, CIFAR-10 Batch 4:  Loss:     1.0382 Validation Accuracy: 0.614400\n",
      "Epoch 26, CIFAR-10 Batch 5:  Loss:     1.0339 Validation Accuracy: 0.604400\n",
      "Epoch 27, CIFAR-10 Batch 1:  Loss:     1.0644 Validation Accuracy: 0.611200\n",
      "Epoch 27, CIFAR-10 Batch 2:  Loss:     1.0951 Validation Accuracy: 0.611000\n",
      "Epoch 27, CIFAR-10 Batch 3:  Loss:     1.0992 Validation Accuracy: 0.616200\n",
      "Epoch 27, CIFAR-10 Batch 4:  Loss:     1.0379 Validation Accuracy: 0.614200\n",
      "Epoch 27, CIFAR-10 Batch 5:  Loss:     1.0206 Validation Accuracy: 0.602400\n",
      "Epoch 28, CIFAR-10 Batch 1:  Loss:     1.0541 Validation Accuracy: 0.612200\n",
      "Epoch 28, CIFAR-10 Batch 2:  Loss:     1.0791 Validation Accuracy: 0.621000\n",
      "Epoch 28, CIFAR-10 Batch 3:  Loss:     1.0814 Validation Accuracy: 0.609800\n",
      "Epoch 28, CIFAR-10 Batch 4:  Loss:     1.0197 Validation Accuracy: 0.615800\n",
      "Epoch 28, CIFAR-10 Batch 5:  Loss:     0.9877 Validation Accuracy: 0.617600\n",
      "Epoch 29, CIFAR-10 Batch 1:  Loss:     1.0287 Validation Accuracy: 0.618800\n",
      "Epoch 29, CIFAR-10 Batch 2:  Loss:     1.0624 Validation Accuracy: 0.614200\n",
      "Epoch 29, CIFAR-10 Batch 3:  Loss:     1.0845 Validation Accuracy: 0.609400\n",
      "Epoch 29, CIFAR-10 Batch 4:  Loss:     1.0079 Validation Accuracy: 0.620200\n",
      "Epoch 29, CIFAR-10 Batch 5:  Loss:     0.9834 Validation Accuracy: 0.619600\n",
      "Epoch 30, CIFAR-10 Batch 1:  Loss:     1.0213 Validation Accuracy: 0.617400\n",
      "Epoch 30, CIFAR-10 Batch 2:  Loss:     1.0359 Validation Accuracy: 0.617600\n",
      "Epoch 30, CIFAR-10 Batch 3:  Loss:     1.0639 Validation Accuracy: 0.617400\n",
      "Epoch 30, CIFAR-10 Batch 4:  Loss:     1.0049 Validation Accuracy: 0.622400\n",
      "Epoch 30, CIFAR-10 Batch 5:  Loss:     0.9840 Validation Accuracy: 0.611000\n",
      "Epoch 31, CIFAR-10 Batch 1:  Loss:     1.0152 Validation Accuracy: 0.617000\n",
      "Epoch 31, CIFAR-10 Batch 2:  Loss:     1.0329 Validation Accuracy: 0.618600\n",
      "Epoch 31, CIFAR-10 Batch 3:  Loss:     1.0432 Validation Accuracy: 0.621800\n",
      "Epoch 31, CIFAR-10 Batch 4:  Loss:     0.9961 Validation Accuracy: 0.622400\n",
      "Epoch 31, CIFAR-10 Batch 5:  Loss:     0.9562 Validation Accuracy: 0.626200\n",
      "Epoch 32, CIFAR-10 Batch 1:  Loss:     1.0069 Validation Accuracy: 0.625000\n",
      "Epoch 32, CIFAR-10 Batch 2:  Loss:     1.0193 Validation Accuracy: 0.626800\n",
      "Epoch 32, CIFAR-10 Batch 3:  Loss:     1.0249 Validation Accuracy: 0.620000\n",
      "Epoch 32, CIFAR-10 Batch 4:  Loss:     0.9961 Validation Accuracy: 0.620400\n",
      "Epoch 32, CIFAR-10 Batch 5:  Loss:     0.9459 Validation Accuracy: 0.627200\n",
      "Epoch 33, CIFAR-10 Batch 1:  Loss:     0.9949 Validation Accuracy: 0.627200\n",
      "Epoch 33, CIFAR-10 Batch 2:  Loss:     1.0109 Validation Accuracy: 0.624800\n",
      "Epoch 33, CIFAR-10 Batch 3:  Loss:     1.0310 Validation Accuracy: 0.619400\n",
      "Epoch 33, CIFAR-10 Batch 4:  Loss:     0.9791 Validation Accuracy: 0.622800\n",
      "Epoch 33, CIFAR-10 Batch 5:  Loss:     0.9476 Validation Accuracy: 0.623600\n",
      "Epoch 34, CIFAR-10 Batch 1:  Loss:     0.9810 Validation Accuracy: 0.628600\n",
      "Epoch 34, CIFAR-10 Batch 2:  Loss:     1.0153 Validation Accuracy: 0.619800\n",
      "Epoch 34, CIFAR-10 Batch 3:  Loss:     1.0150 Validation Accuracy: 0.622600\n",
      "Epoch 34, CIFAR-10 Batch 4:  Loss:     0.9853 Validation Accuracy: 0.623600\n",
      "Epoch 34, CIFAR-10 Batch 5:  Loss:     0.9247 Validation Accuracy: 0.638000\n",
      "Epoch 35, CIFAR-10 Batch 1:  Loss:     0.9767 Validation Accuracy: 0.630400\n",
      "Epoch 35, CIFAR-10 Batch 2:  Loss:     1.0229 Validation Accuracy: 0.622400\n",
      "Epoch 35, CIFAR-10 Batch 3:  Loss:     1.0117 Validation Accuracy: 0.626600\n",
      "Epoch 35, CIFAR-10 Batch 4:  Loss:     0.9718 Validation Accuracy: 0.627400\n",
      "Epoch 35, CIFAR-10 Batch 5:  Loss:     0.9366 Validation Accuracy: 0.626600\n",
      "Epoch 36, CIFAR-10 Batch 1:  Loss:     0.9611 Validation Accuracy: 0.632800\n",
      "Epoch 36, CIFAR-10 Batch 2:  Loss:     0.9859 Validation Accuracy: 0.633200\n",
      "Epoch 36, CIFAR-10 Batch 3:  Loss:     0.9959 Validation Accuracy: 0.625000\n",
      "Epoch 36, CIFAR-10 Batch 4:  Loss:     0.9638 Validation Accuracy: 0.627600\n",
      "Epoch 36, CIFAR-10 Batch 5:  Loss:     0.9107 Validation Accuracy: 0.629800\n",
      "Epoch 37, CIFAR-10 Batch 1:  Loss:     0.9502 Validation Accuracy: 0.636600\n",
      "Epoch 37, CIFAR-10 Batch 2:  Loss:     0.9818 Validation Accuracy: 0.631200\n",
      "Epoch 37, CIFAR-10 Batch 3:  Loss:     0.9850 Validation Accuracy: 0.631400\n",
      "Epoch 37, CIFAR-10 Batch 4:  Loss:     0.9561 Validation Accuracy: 0.625000\n",
      "Epoch 37, CIFAR-10 Batch 5:  Loss:     0.9026 Validation Accuracy: 0.632800\n",
      "Epoch 38, CIFAR-10 Batch 1:  Loss:     0.9492 Validation Accuracy: 0.633800\n",
      "Epoch 38, CIFAR-10 Batch 2:  Loss:     0.9604 Validation Accuracy: 0.633200\n",
      "Epoch 38, CIFAR-10 Batch 3:  Loss:     0.9889 Validation Accuracy: 0.626800\n",
      "Epoch 38, CIFAR-10 Batch 4:  Loss:     0.9496 Validation Accuracy: 0.628200\n",
      "Epoch 38, CIFAR-10 Batch 5:  Loss:     0.8850 Validation Accuracy: 0.639000\n",
      "Epoch 39, CIFAR-10 Batch 1:  Loss:     0.9369 Validation Accuracy: 0.637200\n",
      "Epoch 39, CIFAR-10 Batch 2:  Loss:     0.9536 Validation Accuracy: 0.635600\n",
      "Epoch 39, CIFAR-10 Batch 3:  Loss:     0.9644 Validation Accuracy: 0.636800\n",
      "Epoch 39, CIFAR-10 Batch 4:  Loss:     0.9246 Validation Accuracy: 0.635400\n",
      "Epoch 39, CIFAR-10 Batch 5:  Loss:     0.8926 Validation Accuracy: 0.630600\n",
      "Epoch 40, CIFAR-10 Batch 1:  Loss:     0.9265 Validation Accuracy: 0.642600\n",
      "Epoch 40, CIFAR-10 Batch 2:  Loss:     0.9475 Validation Accuracy: 0.634600\n",
      "Epoch 40, CIFAR-10 Batch 3:  Loss:     0.9624 Validation Accuracy: 0.638000\n",
      "Epoch 40, CIFAR-10 Batch 4:  Loss:     0.9276 Validation Accuracy: 0.626600\n",
      "Epoch 40, CIFAR-10 Batch 5:  Loss:     0.8932 Validation Accuracy: 0.630200\n",
      "Epoch 41, CIFAR-10 Batch 1:  Loss:     0.9148 Validation Accuracy: 0.639000\n",
      "Epoch 41, CIFAR-10 Batch 2:  Loss:     0.9482 Validation Accuracy: 0.640000\n",
      "Epoch 41, CIFAR-10 Batch 3:  Loss:     0.9535 Validation Accuracy: 0.636800\n",
      "Epoch 41, CIFAR-10 Batch 4:  Loss:     0.9236 Validation Accuracy: 0.628200\n",
      "Epoch 41, CIFAR-10 Batch 5:  Loss:     0.8841 Validation Accuracy: 0.628200\n",
      "Epoch 42, CIFAR-10 Batch 1:  Loss:     0.9098 Validation Accuracy: 0.636800\n",
      "Epoch 42, CIFAR-10 Batch 2:  Loss:     0.9464 Validation Accuracy: 0.634200\n",
      "Epoch 42, CIFAR-10 Batch 3:  Loss:     0.9498 Validation Accuracy: 0.632200\n",
      "Epoch 42, CIFAR-10 Batch 4:  Loss:     0.9222 Validation Accuracy: 0.630400\n",
      "Epoch 42, CIFAR-10 Batch 5:  Loss:     0.8800 Validation Accuracy: 0.631600\n",
      "Epoch 43, CIFAR-10 Batch 1:  Loss:     0.9112 Validation Accuracy: 0.630200\n",
      "Epoch 43, CIFAR-10 Batch 2:  Loss:     0.9502 Validation Accuracy: 0.637800\n",
      "Epoch 43, CIFAR-10 Batch 3:  Loss:     0.9511 Validation Accuracy: 0.632800\n",
      "Epoch 43, CIFAR-10 Batch 4:  Loss:     0.9089 Validation Accuracy: 0.631400\n",
      "Epoch 43, CIFAR-10 Batch 5:  Loss:     0.8580 Validation Accuracy: 0.634200\n",
      "Epoch 44, CIFAR-10 Batch 1:  Loss:     0.9017 Validation Accuracy: 0.637200\n"
     ]
    },
    {
     "name": "stdout",
     "output_type": "stream",
     "text": [
      "Epoch 44, CIFAR-10 Batch 2:  Loss:     0.9485 Validation Accuracy: 0.626800\n",
      "Epoch 44, CIFAR-10 Batch 3:  Loss:     0.9716 Validation Accuracy: 0.619600\n",
      "Epoch 44, CIFAR-10 Batch 4:  Loss:     0.9272 Validation Accuracy: 0.626400\n",
      "Epoch 44, CIFAR-10 Batch 5:  Loss:     0.8773 Validation Accuracy: 0.627200\n",
      "Epoch 45, CIFAR-10 Batch 1:  Loss:     0.9229 Validation Accuracy: 0.633400\n",
      "Epoch 45, CIFAR-10 Batch 2:  Loss:     0.9261 Validation Accuracy: 0.633800\n",
      "Epoch 45, CIFAR-10 Batch 3:  Loss:     0.9420 Validation Accuracy: 0.632800\n",
      "Epoch 45, CIFAR-10 Batch 4:  Loss:     0.9153 Validation Accuracy: 0.627200\n",
      "Epoch 45, CIFAR-10 Batch 5:  Loss:     0.8494 Validation Accuracy: 0.640000\n",
      "Epoch 46, CIFAR-10 Batch 1:  Loss:     0.8854 Validation Accuracy: 0.642600\n",
      "Epoch 46, CIFAR-10 Batch 2:  Loss:     0.9099 Validation Accuracy: 0.640800\n",
      "Epoch 46, CIFAR-10 Batch 3:  Loss:     0.9263 Validation Accuracy: 0.637800\n",
      "Epoch 46, CIFAR-10 Batch 4:  Loss:     0.8954 Validation Accuracy: 0.634800\n",
      "Epoch 46, CIFAR-10 Batch 5:  Loss:     0.8563 Validation Accuracy: 0.638800\n",
      "Epoch 47, CIFAR-10 Batch 1:  Loss:     0.8842 Validation Accuracy: 0.639200\n",
      "Epoch 47, CIFAR-10 Batch 2:  Loss:     0.9054 Validation Accuracy: 0.639600\n",
      "Epoch 47, CIFAR-10 Batch 3:  Loss:     0.9106 Validation Accuracy: 0.638400\n",
      "Epoch 47, CIFAR-10 Batch 4:  Loss:     0.8754 Validation Accuracy: 0.638600\n",
      "Epoch 47, CIFAR-10 Batch 5:  Loss:     0.8356 Validation Accuracy: 0.636600\n",
      "Epoch 48, CIFAR-10 Batch 1:  Loss:     0.8850 Validation Accuracy: 0.634400\n",
      "Epoch 48, CIFAR-10 Batch 2:  Loss:     0.8947 Validation Accuracy: 0.642000\n",
      "Epoch 48, CIFAR-10 Batch 3:  Loss:     0.8990 Validation Accuracy: 0.643000\n",
      "Epoch 48, CIFAR-10 Batch 4:  Loss:     0.8776 Validation Accuracy: 0.639800\n",
      "Epoch 48, CIFAR-10 Batch 5:  Loss:     0.8356 Validation Accuracy: 0.638000\n",
      "Epoch 49, CIFAR-10 Batch 1:  Loss:     0.8764 Validation Accuracy: 0.634200\n",
      "Epoch 49, CIFAR-10 Batch 2:  Loss:     0.8798 Validation Accuracy: 0.640200\n",
      "Epoch 49, CIFAR-10 Batch 3:  Loss:     0.9021 Validation Accuracy: 0.639200\n",
      "Epoch 49, CIFAR-10 Batch 4:  Loss:     0.8632 Validation Accuracy: 0.633200\n",
      "Epoch 49, CIFAR-10 Batch 5:  Loss:     0.8196 Validation Accuracy: 0.640000\n",
      "Epoch 50, CIFAR-10 Batch 1:  Loss:     0.8799 Validation Accuracy: 0.630600\n",
      "Epoch 50, CIFAR-10 Batch 2:  Loss:     0.8841 Validation Accuracy: 0.639000\n",
      "Epoch 50, CIFAR-10 Batch 3:  Loss:     0.8988 Validation Accuracy: 0.642600\n",
      "Epoch 50, CIFAR-10 Batch 4:  Loss:     0.8534 Validation Accuracy: 0.640600\n",
      "Epoch 50, CIFAR-10 Batch 5:  Loss:     0.8023 Validation Accuracy: 0.643600\n"
     ]
    }
   ],
   "source": [
    "\"\"\"\n",
    "DON'T MODIFY ANYTHING IN THIS CELL\n",
    "\"\"\"\n",
    "save_model_path = './image_classification'\n",
    "\n",
    "print('Training...')\n",
    "with tf.Session() as sess:\n",
    "    # Initializing the variables\n",
    "    sess.run(tf.global_variables_initializer())\n",
    "    \n",
    "    # Training cycle\n",
    "    for epoch in range(epochs):\n",
    "        # Loop over all batches\n",
    "        n_batches = 5\n",
    "        for batch_i in range(1, n_batches + 1):\n",
    "            for batch_features, batch_labels in helper.load_preprocess_training_batch(batch_i, batch_size):\n",
    "                train_neural_network(sess, optimizer, keep_probability, batch_features, batch_labels)\n",
    "            print('Epoch {:>2}, CIFAR-10 Batch {}:  '.format(epoch + 1, batch_i), end='')\n",
    "            print_stats(sess, batch_features, batch_labels, cost, accuracy)\n",
    "            \n",
    "    # Save Model\n",
    "    saver = tf.train.Saver()\n",
    "    save_path = saver.save(sess, save_model_path)"
   ]
  },
  {
   "cell_type": "markdown",
   "metadata": {},
   "source": [
    "# Checkpoint\n",
    "The model has been saved to disk.\n",
    "## Test Model\n",
    "Test your model against the test dataset.  This will be your final accuracy. You should have an accuracy greater than 50%. If you don't, keep tweaking the model architecture and parameters."
   ]
  },
  {
   "cell_type": "code",
   "execution_count": 22,
   "metadata": {},
   "outputs": [
    {
     "name": "stdout",
     "output_type": "stream",
     "text": [
      "INFO:tensorflow:Restoring parameters from ./image_classification\n",
      "Testing Accuracy: 0.6372050344944\n",
      "\n"
     ]
    },
    {
     "data": {
      "image/png": "[encoded data removed]",
      "text/plain": [
       "<matplotlib.figure.Figure at 0x7f5421078668>"
      ]
     },
     "metadata": {
      "image/png": {
       "height": 319,
       "width": 355
      }
     },
     "output_type": "display_data"
    }
   ],
   "source": [
    "\"\"\"\n",
    "DON'T MODIFY ANYTHING IN THIS CELL\n",
    "\"\"\"\n",
    "%matplotlib inline\n",
    "%config InlineBackend.figure_format = 'retina'\n",
    "\n",
    "import tensorflow as tf\n",
    "import pickle\n",
    "import helper\n",
    "import random\n",
    "\n",
    "# Set batch size if not already set\n",
    "try:\n",
    "    if batch_size:\n",
    "        pass\n",
    "except NameError:\n",
    "    batch_size = 64\n",
    "\n",
    "save_model_path = './image_classification'\n",
    "n_samples = 4\n",
    "top_n_predictions = 3\n",
    "\n",
    "def test_model():\n",
    "    \"\"\"\n",
    "    Test the saved model against the test dataset\n",
    "    \"\"\"\n",
    "\n",
    "    test_features, test_labels = pickle.load(open('preprocess_training.p', mode='rb'))\n",
    "    loaded_graph = tf.Graph()\n",
    "\n",
    "    with tf.Session(graph=loaded_graph) as sess:\n",
    "        # Load model\n",
    "        loader = tf.train.import_meta_graph(save_model_path + '.meta')\n",
    "        loader.restore(sess, save_model_path)\n",
    "\n",
    "        # Get Tensors from loaded model\n",
    "        loaded_x = loaded_graph.get_tensor_by_name('x:0')\n",
    "        loaded_y = loaded_graph.get_tensor_by_name('y:0')\n",
    "        loaded_keep_prob = loaded_graph.get_tensor_by_name('keep_prob:0')\n",
    "        loaded_logits = loaded_graph.get_tensor_by_name('logits:0')\n",
    "        loaded_acc = loaded_graph.get_tensor_by_name('accuracy:0')\n",
    "        \n",
    "        # Get accuracy in batches for memory limitations\n",
    "        test_batch_acc_total = 0\n",
    "        test_batch_count = 0\n",
    "        \n",
    "        for train_feature_batch, train_label_batch in helper.batch_features_labels(test_features, test_labels, batch_size):\n",
    "            test_batch_acc_total += sess.run(\n",
    "                loaded_acc,\n",
    "                feed_dict={loaded_x: train_feature_batch, loaded_y: train_label_batch, loaded_keep_prob: 1.0})\n",
    "            test_batch_count += 1\n",
    "\n",
    "        print('Testing Accuracy: {}\\n'.format(test_batch_acc_total/test_batch_count))\n",
    "\n",
    "        # Print Random Samples\n",
    "        random_test_features, random_test_labels = tuple(zip(*random.sample(list(zip(test_features, test_labels)), n_samples)))\n",
    "        random_test_predictions = sess.run(\n",
    "            tf.nn.top_k(tf.nn.softmax(loaded_logits), top_n_predictions),\n",
    "            feed_dict={loaded_x: random_test_features, loaded_y: random_test_labels, loaded_keep_prob: 1.0})\n",
    "        helper.display_image_predictions(random_test_features, random_test_labels, random_test_predictions)\n",
    "\n",
    "\n",
    "test_model()"
   ]
  },
  {
   "cell_type": "markdown",
   "metadata": {},
   "source": [
    "## Why 50-70% Accuracy?\n",
    "You might be wondering why you can't get an accuracy any higher. First things first, 50% isn't bad for a simple CNN.  Pure guessing would get you 10% accuracy. However, you might notice people are getting scores [well above 70%](http://rodrigob.github.io/are_we_there_yet/build/classification_datasets_results.html#43494641522d3130).  That's because we haven't taught you all there is to know about neural networks. We still need to cover a few more techniques.\n",
    "## Submitting This Project\n",
    "When submitting this project, make sure to run all the cells before saving the notebook.  Save the notebook file as \"dlnd_image_classification.ipynb\" and save it as a HTML file under \"File\" -> \"Download as\".  Include the \"helper.py\" and \"problem_unittests.py\" files in your submission."
   ]
  }
 ],
 "metadata": {
  "kernelspec": {
   "display_name": "Python 3",
   "language": "python",
   "name": "python3"
  },
  "language_info": {
   "codemirror_mode": {
    "name": "ipython",
    "version": 3
   },
   "file_extension": ".py",
   "mimetype": "text/x-python",
   "name": "python",
   "nbconvert_exporter": "python",
   "pygments_lexer": "ipython3",
   "version": "3.5.3"
  }
 },
 "nbformat": 4,
 "nbformat_minor": 1
}
